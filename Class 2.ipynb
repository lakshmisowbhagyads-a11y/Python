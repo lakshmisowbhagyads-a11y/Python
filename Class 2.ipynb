{
 "cells": [
  {
   "cell_type": "code",
   "execution_count": 1,
   "id": "91b8ce8c-fec8-4600-86af-a350df754713",
   "metadata": {},
   "outputs": [
    {
     "data": {
      "text/plain": [
       "['d', 't', '']"
      ]
     },
     "execution_count": 1,
     "metadata": {},
     "output_type": "execute_result"
    }
   ],
   "source": [
    "x=\"data\"\n",
    "x.split(\"a\")"
   ]
  },
  {
   "cell_type": "code",
   "execution_count": null,
   "id": "5e8a2e66-98ec-49c8-be24-acd58d3a2421",
   "metadata": {},
   "outputs": [],
   "source": []
  },
  {
   "cell_type": "code",
   "execution_count": 4,
   "id": "cdcd5b82-f1d3-4440-b97a-eac7eb5daeab",
   "metadata": {},
   "outputs": [
    {
     "data": {
      "text/plain": [
       "1"
      ]
     },
     "execution_count": 4,
     "metadata": {},
     "output_type": "execute_result"
    }
   ],
   "source": [
    "x=\"data science\"\n",
    "x.count(\" \")\n"
   ]
  },
  {
   "cell_type": "code",
   "execution_count": 7,
   "id": "0e4122ec-3c6a-4a2a-b9b6-3c2b5c9752ce",
   "metadata": {},
   "outputs": [
    {
     "data": {
      "text/plain": [
       "'dxxxxtxxxx science'"
      ]
     },
     "execution_count": 7,
     "metadata": {},
     "output_type": "execute_result"
    }
   ],
   "source": [
    "x=\"data science\"\n",
    "x.replace(\"a\",\"xxxx\")"
   ]
  },
  {
   "cell_type": "code",
   "execution_count": 9,
   "id": "6d78365c-f0d7-4d25-a0a2-653b9897fa18",
   "metadata": {},
   "outputs": [
    {
     "data": {
      "text/plain": [
       "1"
      ]
     },
     "execution_count": 9,
     "metadata": {},
     "output_type": "execute_result"
    }
   ],
   "source": [
    "x=\"data science\"\n",
    "x.index(\"a\")"
   ]
  },
  {
   "cell_type": "code",
   "execution_count": 10,
   "id": "ce5f8a57-b08f-43b2-b3e2-130ead0c517f",
   "metadata": {},
   "outputs": [
    {
     "data": {
      "text/plain": [
       "'da'"
      ]
     },
     "execution_count": 10,
     "metadata": {},
     "output_type": "execute_result"
    }
   ],
   "source": [
    "x=\"data science\"\n",
    "x[0:2]"
   ]
  },
  {
   "cell_type": "code",
   "execution_count": 11,
   "id": "67716be0-b986-4c46-9467-6a66e53f5bf2",
   "metadata": {},
   "outputs": [
    {
     "data": {
      "text/plain": [
       "'da'"
      ]
     },
     "execution_count": 11,
     "metadata": {},
     "output_type": "execute_result"
    }
   ],
   "source": [
    "x=\"data science\"\n",
    "x[:2]"
   ]
  },
  {
   "cell_type": "code",
   "execution_count": 13,
   "id": "c7dc381a-9292-4906-8fa1-0dcd89f43f12",
   "metadata": {},
   "outputs": [
    {
     "data": {
      "text/plain": [
       "'science'"
      ]
     },
     "execution_count": 13,
     "metadata": {},
     "output_type": "execute_result"
    }
   ],
   "source": [
    "x=\"data science\"\n",
    "x[5:]"
   ]
  },
  {
   "cell_type": "code",
   "execution_count": 15,
   "id": "fbffc837-ea23-47ab-8753-ef4f900fb148",
   "metadata": {},
   "outputs": [
    {
     "data": {
      "text/plain": [
       "'nc'"
      ]
     },
     "execution_count": 15,
     "metadata": {},
     "output_type": "execute_result"
    }
   ],
   "source": [
    "x=\"data science\"\n",
    "x[-3:-1]"
   ]
  },
  {
   "cell_type": "code",
   "execution_count": 16,
   "id": "2a6fa07b-69dd-4c9c-96dc-27e99300fb16",
   "metadata": {},
   "outputs": [
    {
     "data": {
      "text/plain": [
       "'DA'"
      ]
     },
     "execution_count": 16,
     "metadata": {},
     "output_type": "execute_result"
    }
   ],
   "source": [
    "x=\"data science\"\n",
    "x.upper()[0:2]"
   ]
  },
  {
   "cell_type": "code",
   "execution_count": 17,
   "id": "e3b111e3-cc49-479f-81b2-cea12951ca65",
   "metadata": {},
   "outputs": [
    {
     "data": {
      "text/plain": [
       "'DA'"
      ]
     },
     "execution_count": 17,
     "metadata": {},
     "output_type": "execute_result"
    }
   ],
   "source": [
    "x[0:2].upper()"
   ]
  },
  {
   "cell_type": "code",
   "execution_count": null,
   "id": "6739ac2e-3e1c-427c-a4d4-663654135370",
   "metadata": {},
   "outputs": [],
   "source": [
    "x=\"data scienCE\"\n",
    "SCIENce\n"
   ]
  },
  {
   "cell_type": "code",
   "execution_count": null,
   "id": "7ba37acd-f550-46cf-8bdf-72f4fbbd66cd",
   "metadata": {},
   "outputs": [],
   "source": []
  },
  {
   "cell_type": "code",
   "execution_count": null,
   "id": "c81ebc0c-bbbd-4727-8091-d93b2828b863",
   "metadata": {},
   "outputs": [],
   "source": []
  },
  {
   "cell_type": "code",
   "execution_count": null,
   "id": "39c5c44f-ef99-4d78-8a73-d6340f0575f9",
   "metadata": {},
   "outputs": [],
   "source": []
  },
  {
   "cell_type": "code",
   "execution_count": null,
   "id": "a9d526ce-b0bc-4d6e-9264-8edbd9e4e2a0",
   "metadata": {},
   "outputs": [],
   "source": []
  },
  {
   "cell_type": "code",
   "execution_count": null,
   "id": "af7b8185-a59a-4b34-89dd-9181c0f5d73d",
   "metadata": {},
   "outputs": [],
   "source": []
  },
  {
   "cell_type": "code",
   "execution_count": null,
   "id": "2d34229b-2e12-4c7a-b1c6-c1cc80c43f67",
   "metadata": {},
   "outputs": [],
   "source": []
  },
  {
   "cell_type": "code",
   "execution_count": null,
   "id": "af527bc6-fb96-4966-99a4-12b4b5bdc1e0",
   "metadata": {},
   "outputs": [],
   "source": []
  },
  {
   "cell_type": "code",
   "execution_count": null,
   "id": "4de590e9-1b94-47b1-b039-2c2578942b44",
   "metadata": {},
   "outputs": [],
   "source": []
  },
  {
   "cell_type": "code",
   "execution_count": null,
   "id": "9d2ffff8-2bf3-4576-affa-bba32c6863c6",
   "metadata": {},
   "outputs": [],
   "source": []
  },
  {
   "cell_type": "code",
   "execution_count": null,
   "id": "68a7f194-4691-4337-9d0f-8e667524cc66",
   "metadata": {},
   "outputs": [],
   "source": []
  }
 ],
 "metadata": {
  "kernelspec": {
   "display_name": "Python 3 (ipykernel)",
   "language": "python",
   "name": "python3"
  },
  "language_info": {
   "codemirror_mode": {
    "name": "ipython",
    "version": 3
   },
   "file_extension": ".py",
   "mimetype": "text/x-python",
   "name": "python",
   "nbconvert_exporter": "python",
   "pygments_lexer": "ipython3",
   "version": "3.13.5"
  }
 },
 "nbformat": 4,
 "nbformat_minor": 5
}
