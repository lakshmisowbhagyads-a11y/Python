{
 "cells": [
  {
   "cell_type": "code",
   "execution_count": 13,
   "id": "94973f81-74dc-41d1-bcab-66875130c672",
   "metadata": {},
   "outputs": [],
   "source": [
    "x=10"
   ]
  },
  {
   "cell_type": "code",
   "execution_count": 5,
   "id": "dd89111d-39e2-424b-a3a5-43d2fa1d9758",
   "metadata": {},
   "outputs": [
    {
     "data": {
      "text/plain": [
       "10"
      ]
     },
     "execution_count": 5,
     "metadata": {},
     "output_type": "execute_result"
    }
   ],
   "source": [
    "x ### ctrl+entr: exeucting a cell\n",
    "### alt+entr : executing a cell and create a new cell"
   ]
  },
  {
   "cell_type": "code",
   "execution_count": null,
   "id": "9a3f9e6b-8630-41db-9014-304e039fa980",
   "metadata": {},
   "outputs": [],
   "source": []
  },
  {
   "cell_type": "code",
   "execution_count": null,
   "id": "01c42e94-0628-40a0-9b13-80ba69592e8a",
   "metadata": {},
   "outputs": [],
   "source": []
  },
  {
   "cell_type": "code",
   "execution_count": null,
   "id": "fc4b93ad-32dc-4743-95f8-10dd00c4b020",
   "metadata": {},
   "outputs": [],
   "source": []
  },
  {
   "cell_type": "code",
   "execution_count": null,
   "id": "f6e4725b-9bf7-444a-892a-c492fcddecb4",
   "metadata": {},
   "outputs": [],
   "source": []
  },
  {
   "cell_type": "code",
   "execution_count": 14,
   "id": "917f4394-c919-46a5-a682-82520adbb9fb",
   "metadata": {},
   "outputs": [],
   "source": [
    "x=10"
   ]
  },
  {
   "cell_type": "code",
   "execution_count": 15,
   "id": "ae9c10f8-0230-46b7-9ffc-42f94cf42551",
   "metadata": {},
   "outputs": [
    {
     "data": {
      "text/plain": [
       "10"
      ]
     },
     "execution_count": 15,
     "metadata": {},
     "output_type": "execute_result"
    }
   ],
   "source": [
    "x"
   ]
  },
  {
   "cell_type": "code",
   "execution_count": 16,
   "id": "c2cbfc78-0f1d-4904-b8c5-00f9f11ba69b",
   "metadata": {},
   "outputs": [
    {
     "data": {
      "text/plain": [
       "int"
      ]
     },
     "execution_count": 16,
     "metadata": {},
     "output_type": "execute_result"
    }
   ],
   "source": [
    "type(x)"
   ]
  },
  {
   "cell_type": "code",
   "execution_count": 21,
   "id": "75b3d16b-f280-403d-ba9e-a10fcaace0e0",
   "metadata": {},
   "outputs": [
    {
     "ename": "SyntaxError",
     "evalue": "invalid decimal literal (4233671074.py, line 1)",
     "output_type": "error",
     "traceback": [
      "  \u001b[36mCell\u001b[39m\u001b[36m \u001b[39m\u001b[32mIn[21]\u001b[39m\u001b[32m, line 1\u001b[39m\n\u001b[31m    \u001b[39m\u001b[31m8abc=10\u001b[39m\n    ^\n\u001b[31mSyntaxError\u001b[39m\u001b[31m:\u001b[39m invalid decimal literal\n"
     ]
    }
   ],
   "source": [
    "8abc=10"
   ]
  },
  {
   "cell_type": "code",
   "execution_count": 24,
   "id": "605abed4-3165-41e1-b9d3-e62f68152958",
   "metadata": {},
   "outputs": [],
   "source": [
    "x_=20"
   ]
  },
  {
   "cell_type": "code",
   "execution_count": 27,
   "id": "aa911b95-beb3-4da9-a452-5715bcb73532",
   "metadata": {},
   "outputs": [
    {
     "name": "stdout",
     "output_type": "stream",
     "text": [
      "['False', 'None', 'True', 'and', 'as', 'assert', 'async', 'await', 'break', 'class', 'continue', 'def', 'del', 'elif', 'else', 'except', 'finally', 'for', 'from', 'global', 'if', 'import', 'in', 'is', 'lambda', 'nonlocal', 'not', 'or', 'pass', 'raise', 'return', 'try', 'while', 'with', 'yield']\n"
     ]
    }
   ],
   "source": [
    "import keyword\n",
    "print(keyword.kwlist)"
   ]
  },
  {
   "cell_type": "code",
   "execution_count": 29,
   "id": "bd79dd8d-0b75-4a65-8874-8c9b055b7bc1",
   "metadata": {},
   "outputs": [
    {
     "ename": "SyntaxError",
     "evalue": "invalid syntax (3135430258.py, line 1)",
     "output_type": "error",
     "traceback": [
      "  \u001b[36mCell\u001b[39m\u001b[36m \u001b[39m\u001b[32mIn[29]\u001b[39m\u001b[32m, line 1\u001b[39m\n\u001b[31m    \u001b[39m\u001b[31mlambda=10\u001b[39m\n          ^\n\u001b[31mSyntaxError\u001b[39m\u001b[31m:\u001b[39m invalid syntax\n"
     ]
    }
   ],
   "source": [
    "lambda=10"
   ]
  },
  {
   "cell_type": "code",
   "execution_count": 31,
   "id": "82db6755-b9a5-4765-aa9e-c32448ad7162",
   "metadata": {
    "scrolled": true
   },
   "outputs": [
    {
     "ename": "SyntaxError",
     "evalue": "invalid syntax (3135430258.py, line 1)",
     "output_type": "error",
     "traceback": [
      "  \u001b[36mCell\u001b[39m\u001b[36m \u001b[39m\u001b[32mIn[31]\u001b[39m\u001b[32m, line 1\u001b[39m\n\u001b[31m    \u001b[39m\u001b[31mlambda=10\u001b[39m\n          ^\n\u001b[31mSyntaxError\u001b[39m\u001b[31m:\u001b[39m invalid syntax\n"
     ]
    }
   ],
   "source": [
    "lambda=10"
   ]
  },
  {
   "cell_type": "code",
   "execution_count": null,
   "id": "3c82bf23-678d-43c4-b934-13a8354334bc",
   "metadata": {},
   "outputs": [],
   "source": []
  },
  {
   "cell_type": "code",
   "execution_count": 43,
   "id": "5e487305-d543-42a6-9b16-976d2c3cd1d6",
   "metadata": {},
   "outputs": [
    {
     "data": {
      "text/plain": [
       "str"
      ]
     },
     "execution_count": 43,
     "metadata": {},
     "output_type": "execute_result"
    }
   ],
   "source": [
    "x='''abcedf'''\n",
    "type(x)"
   ]
  },
  {
   "cell_type": "code",
   "execution_count": 44,
   "id": "f6606bd6-90e6-4b50-9e43-16f5f63a07c2",
   "metadata": {},
   "outputs": [
    {
     "data": {
      "text/plain": [
       "'abcedf'"
      ]
     },
     "execution_count": 44,
     "metadata": {},
     "output_type": "execute_result"
    }
   ],
   "source": [
    "x"
   ]
  },
  {
   "cell_type": "code",
   "execution_count": null,
   "id": "9e776c01-b6ed-458b-93ea-b73b4595f5e3",
   "metadata": {},
   "outputs": [],
   "source": []
  },
  {
   "cell_type": "code",
   "execution_count": 45,
   "id": "f5723dd4-4188-49d4-aa2f-40dd164f8ad5",
   "metadata": {},
   "outputs": [
    {
     "data": {
      "text/plain": [
       "'abcedf'"
      ]
     },
     "execution_count": 45,
     "metadata": {},
     "output_type": "execute_result"
    }
   ],
   "source": [
    "x"
   ]
  },
  {
   "cell_type": "code",
   "execution_count": 46,
   "id": "ea2ece2e-3a82-4b97-90fb-ebb6e2935d5f",
   "metadata": {},
   "outputs": [
    {
     "data": {
      "text/plain": [
       "'ABCEDF'"
      ]
     },
     "execution_count": 46,
     "metadata": {},
     "output_type": "execute_result"
    }
   ],
   "source": [
    "x.upper()"
   ]
  },
  {
   "cell_type": "code",
   "execution_count": 47,
   "id": "a5023e2f-4346-41b9-8c49-74d737cf0f07",
   "metadata": {},
   "outputs": [],
   "source": [
    "x=1"
   ]
  },
  {
   "cell_type": "code",
   "execution_count": 48,
   "id": "c0942173-1146-46ce-818a-74f59c239575",
   "metadata": {},
   "outputs": [],
   "source": []
  },
  {
   "cell_type": "code",
   "execution_count": 49,
   "id": "a8736512-8787-4a6d-a258-8cbb0ed0d530",
   "metadata": {},
   "outputs": [
    {
     "data": {
      "text/plain": [
       "'ABC'"
      ]
     },
     "execution_count": 49,
     "metadata": {},
     "output_type": "execute_result"
    }
   ],
   "source": [
    "x=\"abc\"\n",
    "x.upper()"
   ]
  },
  {
   "cell_type": "code",
   "execution_count": 51,
   "id": "fc3fe8e1-03af-47cc-a7d6-30ba57402a4a",
   "metadata": {},
   "outputs": [
    {
     "data": {
      "text/plain": [
       "'acc'"
      ]
     },
     "execution_count": 51,
     "metadata": {},
     "output_type": "execute_result"
    }
   ],
   "source": [
    "x=\"AcC\"\n",
    "x.lower()"
   ]
  },
  {
   "cell_type": "code",
   "execution_count": 52,
   "id": "d31a4c31-0f36-47fe-ae22-49050de60b3e",
   "metadata": {},
   "outputs": [
    {
     "data": {
      "text/plain": [
       "'aCc'"
      ]
     },
     "execution_count": 52,
     "metadata": {},
     "output_type": "execute_result"
    }
   ],
   "source": [
    "x=\"AcC\"\n",
    "x.swapcase()"
   ]
  },
  {
   "cell_type": "code",
   "execution_count": 57,
   "id": "3a826720-220f-46b8-96eb-908c1e832b46",
   "metadata": {},
   "outputs": [
    {
     "data": {
      "text/plain": [
       "'Data Scieadfsfnce'"
      ]
     },
     "execution_count": 57,
     "metadata": {},
     "output_type": "execute_result"
    }
   ],
   "source": [
    "x=\"Data scieADFSFnce\"\n",
    "x.title()"
   ]
  },
  {
   "cell_type": "code",
   "execution_count": 56,
   "id": "5bd456cb-611e-480f-9e79-aacd5073fc3d",
   "metadata": {},
   "outputs": [
    {
     "data": {
      "text/plain": [
       "'Data scisednce'"
      ]
     },
     "execution_count": 56,
     "metadata": {},
     "output_type": "execute_result"
    }
   ],
   "source": [
    "x=\"data SciSEDnce\"\n",
    "x.capitalize()"
   ]
  },
  {
   "cell_type": "code",
   "execution_count": null,
   "id": "f1528050-15f6-4374-87d8-8c2a6bf3c2c1",
   "metadata": {},
   "outputs": [],
   "source": []
  },
  {
   "cell_type": "code",
   "execution_count": 63,
   "id": "ce17cd10-032b-40ea-8572-d71940f0332f",
   "metadata": {},
   "outputs": [
    {
     "data": {
      "text/plain": [
       "False"
      ]
     },
     "execution_count": 63,
     "metadata": {},
     "output_type": "execute_result"
    }
   ],
   "source": [
    "x=\"data1213@@%@%\"\n",
    "x.isalpha()"
   ]
  },
  {
   "cell_type": "code",
   "execution_count": 67,
   "id": "ccd28a70-4875-4202-aa20-943470d8d190",
   "metadata": {},
   "outputs": [
    {
     "data": {
      "text/plain": [
       "False"
      ]
     },
     "execution_count": 67,
     "metadata": {},
     "output_type": "execute_result"
    }
   ],
   "source": [
    "x=\"123$@$@\"\n",
    "x.isalnum()"
   ]
  },
  {
   "cell_type": "code",
   "execution_count": 72,
   "id": "b3e1b158-e77b-44e9-bdd2-c5ba23ae8988",
   "metadata": {},
   "outputs": [
    {
     "data": {
      "text/plain": [
       "False"
      ]
     },
     "execution_count": 72,
     "metadata": {},
     "output_type": "execute_result"
    }
   ],
   "source": [
    "x=\"123 \"\n",
    "x.isdigit()"
   ]
  },
  {
   "cell_type": "code",
   "execution_count": 77,
   "id": "bdafbf13-27f8-48f9-959d-2e01f8ec6a4e",
   "metadata": {},
   "outputs": [
    {
     "data": {
      "text/plain": [
       "True"
      ]
     },
     "execution_count": 77,
     "metadata": {},
     "output_type": "execute_result"
    }
   ],
   "source": [
    "x=\"data science\"\n",
    "x.endswith(\"nce\")"
   ]
  },
  {
   "cell_type": "code",
   "execution_count": 83,
   "id": "37033b00-9b3e-454f-8cae-b1d1c9d8c423",
   "metadata": {},
   "outputs": [
    {
     "data": {
      "text/plain": [
       "True"
      ]
     },
     "execution_count": 83,
     "metadata": {},
     "output_type": "execute_result"
    }
   ],
   "source": [
    "x=\"data science\"\n",
    "\n",
    "x.capitalize().startswith(\"Da\")"
   ]
  },
  {
   "cell_type": "code",
   "execution_count": null,
   "id": "7c9e8e2e-0900-4d36-aa34-4954a2ed2660",
   "metadata": {},
   "outputs": [],
   "source": [
    "x=\"data science\""
   ]
  },
  {
   "cell_type": "code",
   "execution_count": null,
   "id": "92dd0c94-5802-4f1f-90ea-16910289ef73",
   "metadata": {},
   "outputs": [],
   "source": []
  },
  {
   "cell_type": "code",
   "execution_count": null,
   "id": "430eee7d-586b-43b8-9d85-18126b398484",
   "metadata": {},
   "outputs": [],
   "source": []
  },
  {
   "cell_type": "code",
   "execution_count": 87,
   "id": "81407a31-5b04-4527-bb1b-9f1578555805",
   "metadata": {},
   "outputs": [
    {
     "data": {
      "text/plain": [
       "'Data Science'"
      ]
     },
     "execution_count": 87,
     "metadata": {},
     "output_type": "execute_result"
    }
   ],
   "source": [
    "x=\"data science\"\n",
    "x.title()"
   ]
  },
  {
   "cell_type": "code",
   "execution_count": null,
   "id": "7ae50178-b549-4070-a64f-13defac93735",
   "metadata": {},
   "outputs": [],
   "source": []
  },
  {
   "cell_type": "code",
   "execution_count": 88,
   "id": "6e939511-ac82-4834-af25-e051145fbb11",
   "metadata": {},
   "outputs": [],
   "source": [
    "x=\"data science\""
   ]
  },
  {
   "cell_type": "code",
   "execution_count": 89,
   "id": "cb563b49-1942-485e-8b39-9e30fcf0c071",
   "metadata": {},
   "outputs": [
    {
     "data": {
      "text/plain": [
       "['data', 'science']"
      ]
     },
     "execution_count": 89,
     "metadata": {},
     "output_type": "execute_result"
    }
   ],
   "source": [
    "x.split()"
   ]
  },
  {
   "cell_type": "code",
   "execution_count": 92,
   "id": "029015b2-5cca-4d8a-ac59-c46f203b8b88",
   "metadata": {},
   "outputs": [
    {
     "data": {
      "text/plain": [
       "['91-7339337878']"
      ]
     },
     "execution_count": 92,
     "metadata": {},
     "output_type": "execute_result"
    }
   ],
   "source": [
    "x=\"91-7339337878\"\n",
    "x.split(\"$\")"
   ]
  },
  {
   "cell_type": "code",
   "execution_count": null,
   "id": "4afa1f8a-c953-41c7-b4d0-5e9e14adf735",
   "metadata": {},
   "outputs": [],
   "source": []
  },
  {
   "cell_type": "code",
   "execution_count": 95,
   "id": "0ee2d5cd-7b1f-4080-b8cf-c5ff9315f50b",
   "metadata": {},
   "outputs": [
    {
     "data": {
      "text/plain": [
       "['d', 't', '', '']"
      ]
     },
     "execution_count": 95,
     "metadata": {},
     "output_type": "execute_result"
    }
   ],
   "source": [
    "x=\"dataa\"\n",
    "x.split(\"a\")"
   ]
  },
  {
   "cell_type": "code",
   "execution_count": null,
   "id": "eec74406-5b7f-47c4-940f-a6b409bd644f",
   "metadata": {},
   "outputs": [],
   "source": []
  },
  {
   "cell_type": "code",
   "execution_count": null,
   "id": "724819bc-0a0f-46ab-9054-b75f6372212e",
   "metadata": {},
   "outputs": [],
   "source": []
  },
  {
   "cell_type": "code",
   "execution_count": null,
   "id": "ddae3e20-e9c5-4a7a-ba01-53ce6e63b7c6",
   "metadata": {},
   "outputs": [],
   "source": []
  },
  {
   "cell_type": "code",
   "execution_count": null,
   "id": "c744cee9-ea5d-409d-90ce-75e188e6b7a0",
   "metadata": {},
   "outputs": [],
   "source": []
  },
  {
   "cell_type": "code",
   "execution_count": null,
   "id": "63a5ab2b-d652-4179-af65-4a77cd0aff37",
   "metadata": {},
   "outputs": [],
   "source": []
  },
  {
   "cell_type": "code",
   "execution_count": null,
   "id": "1368d4c6-6f30-4623-943b-9e194d9ee54a",
   "metadata": {},
   "outputs": [],
   "source": []
  }
 ],
 "metadata": {
  "kernelspec": {
   "display_name": "Python 3 (ipykernel)",
   "language": "python",
   "name": "python3"
  },
  "language_info": {
   "codemirror_mode": {
    "name": "ipython",
    "version": 3
   },
   "file_extension": ".py",
   "mimetype": "text/x-python",
   "name": "python",
   "nbconvert_exporter": "python",
   "pygments_lexer": "ipython3",
   "version": "3.13.5"
  }
 },
 "nbformat": 4,
 "nbformat_minor": 5
}
