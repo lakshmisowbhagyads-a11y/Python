{
  "nbformat": 4,
  "nbformat_minor": 0,
  "metadata": {
    "colab": {
      "provenance": []
    },
    "kernelspec": {
      "name": "python3",
      "display_name": "Python 3"
    },
    "language_info": {
      "name": "python"
    }
  },
  "cells": [
    {
      "cell_type": "code",
      "execution_count": null,
      "metadata": {
        "id": "bUlrTTcwJRKC"
      },
      "outputs": [],
      "source": [
        "#Integer Data Type"
      ]
    },
    {
      "cell_type": "code",
      "source": [
        "# Solved example\n",
        "\n",
        "#Question: Calculate the sum of first 5 even numbers\n",
        "sum=0\n",
        "even_numbers = [2 * i for i in range(1, 6)]\n",
        "print(even_numbers)\n",
        "for i in even_numbers:\n",
        "  sum=sum+i;\n",
        "print(sum)\n",
        "\n",
        "\n"
      ],
      "metadata": {
        "colab": {
          "base_uri": "https://localhost:8080/"
        },
        "id": "BzeILHWZJhVy",
        "outputId": "0969c414-bedf-47b7-aaf9-b13b46796b4b"
      },
      "execution_count": 16,
      "outputs": [
        {
          "output_type": "stream",
          "name": "stdout",
          "text": [
            "[2, 4, 6, 8, 10]\n",
            "30\n"
          ]
        }
      ]
    },
    {
      "cell_type": "code",
      "source": [
        "#Question 1: Calculate the product of first 10 natural numbers\n",
        "product=1\n",
        "for i in range (1,11):\n",
        "  product=product*i;\n",
        "\n",
        "print(f\"product of 10 natural numbers:{product}\")\n"
      ],
      "metadata": {
        "colab": {
          "base_uri": "https://localhost:8080/"
        },
        "id": "xp1aKkOiJhZA",
        "outputId": "d794405e-8bfa-44cb-abdf-895cbe082690"
      },
      "execution_count": 19,
      "outputs": [
        {
          "output_type": "stream",
          "name": "stdout",
          "text": [
            "product of 10 natural numbers:3628800\n"
          ]
        }
      ]
    },
    {
      "cell_type": "code",
      "source": [
        "# Question 2: Find the remainder when 156 is divided by 7\n",
        "dividend =156\n",
        "divisor =7\n",
        "\n",
        "quotient = dividend // divisor\n",
        "print(quotient)\n",
        "product = quotient * divisor\n",
        "print(product)\n",
        "remainder = dividend - product\n",
        "print(f\"remainder:{remainder}\")"
      ],
      "metadata": {
        "colab": {
          "base_uri": "https://localhost:8080/"
        },
        "id": "eQcPIWcNJhb9",
        "outputId": "0aa5f024-b96a-4eec-abc7-f8a5bfaf622f"
      },
      "execution_count": 25,
      "outputs": [
        {
          "output_type": "stream",
          "name": "stdout",
          "text": [
            "22\n",
            "154\n",
            "remainder:2\n"
          ]
        }
      ]
    },
    {
      "cell_type": "code",
      "source": [
        "# Question 3: Calculate the square of 25\n",
        "num=5\n",
        "square=num**2\n",
        "print(f\"square:{square}\")"
      ],
      "metadata": {
        "colab": {
          "base_uri": "https://localhost:8080/"
        },
        "id": "BHjcaqDKJher",
        "outputId": "dfae0c6a-db8d-47de-c758-3aa0d123e106"
      },
      "execution_count": 27,
      "outputs": [
        {
          "output_type": "stream",
          "name": "stdout",
          "text": [
            "square:25\n"
          ]
        }
      ]
    },
    {
      "cell_type": "code",
      "source": [
        "# Question 4: Find the cube root of 125\n",
        "num=125\n",
        "cuberoot=(125)**1/3\n",
        "print(f\"cuberoot:{cuberoot}\")\n"
      ],
      "metadata": {
        "colab": {
          "base_uri": "https://localhost:8080/"
        },
        "id": "f7avC0aCJhhh",
        "outputId": "0ef0c282-80a7-48cd-ee19-75923e7071e8"
      },
      "execution_count": 28,
      "outputs": [
        {
          "output_type": "stream",
          "name": "stdout",
          "text": [
            "cuberoot:41.666666666666664\n"
          ]
        }
      ]
    },
    {
      "cell_type": "code",
      "source": [
        "#Question 5: Calculate the sum of digits in number 12345\n",
        "sum=0\n",
        "num=12345\n",
        "for i in str(num):\n",
        "  sum=sum+int(i)\n",
        "print(sum)"
      ],
      "metadata": {
        "colab": {
          "base_uri": "https://localhost:8080/"
        },
        "id": "lK4W1yEvJhkt",
        "outputId": "bdb7704c-db30-4dfb-b2e8-753a550fe1b4"
      },
      "execution_count": 34,
      "outputs": [
        {
          "output_type": "stream",
          "name": "stdout",
          "text": [
            "15\n"
          ]
        }
      ]
    },
    {
      "cell_type": "code",
      "source": [
        "# Question 6: Check if 97 is a prime number\n",
        "num=97\n",
        "is_prime = True;\n",
        "if num<=1:\n",
        "  is_prime=False;\n",
        "else:\n",
        "  for i in range(2,(int(num**0.5)+1)):\n",
        "    if num % i ==0:\n",
        "      is_prime=False;\n",
        "      break;\n",
        "\n",
        "  if is_prime:\n",
        "     print(f\"prime number:{num}\")\n",
        "  else:\n",
        "     print(f\"{num} is not prime number\")\n",
        "\n",
        "\n",
        "\n"
      ],
      "metadata": {
        "colab": {
          "base_uri": "https://localhost:8080/"
        },
        "id": "k8rbuzVpJhni",
        "outputId": "10a70333-0f53-4ab4-ba8b-3c81d97ed743"
      },
      "execution_count": 5,
      "outputs": [
        {
          "output_type": "stream",
          "name": "stdout",
          "text": [
            "prime number:97\n"
          ]
        }
      ]
    },
    {
      "cell_type": "code",
      "source": [
        "# Question 7: Find the factorial of 8\n",
        "fact=1\n",
        "for i in range(8,0,-1):\n",
        "  #print(i);\n",
        "  fact=fact*i;\n",
        "print(f\"factorial is:{fact}\")\n"
      ],
      "metadata": {
        "colab": {
          "base_uri": "https://localhost:8080/"
        },
        "id": "GAqyQ9I4Jhqg",
        "outputId": "0938d4b7-a103-40b1-e2ed-baa1d742a4e6"
      },
      "execution_count": 7,
      "outputs": [
        {
          "output_type": "stream",
          "name": "stdout",
          "text": [
            "factorial is:40320\n"
          ]
        }
      ]
    },
    {
      "cell_type": "code",
      "source": [
        "# Question 8: Calculate the average of numbers: 15, 23, 31, 42, 56\n",
        "numbs=[15,23,31,42,56]\n",
        "sum=0\n",
        "for i in numbs:\n",
        "  sum= sum+i;\n",
        "  print(sum)\n",
        "avg=sum / len(numbs)\n",
        "print(avg)\n"
      ],
      "metadata": {
        "colab": {
          "base_uri": "https://localhost:8080/"
        },
        "id": "aHl8PzRLJhtr",
        "outputId": "092f88a9-99dc-4f6c-92d8-4945aa204f12"
      },
      "execution_count": 9,
      "outputs": [
        {
          "output_type": "stream",
          "name": "stdout",
          "text": [
            "15\n",
            "38\n",
            "69\n",
            "111\n",
            "167\n",
            "33.4\n"
          ]
        }
      ]
    },
    {
      "cell_type": "code",
      "source": [
        "# Question 9: Find the greatest common divisor (GCD) of 48 and 36\n"
      ],
      "metadata": {
        "id": "8LGIO4vXJhwo"
      },
      "execution_count": null,
      "outputs": []
    },
    {
      "cell_type": "code",
      "source": [
        "# Question 10: Calculate the sum of first 20 odd numbers\n",
        "numbs_odd=[]\n",
        "total=0\n",
        "for i in range(1,100):\n",
        "  if i%2 !=0:\n",
        "    numbs_odd.append(i);\n",
        "    #print(numbs_odd);\n",
        "    total=total+i\n",
        "    if len(numbs_odd) >= 20:\n",
        "      break\n",
        "print(f\"total of odds:{total}\")"
      ],
      "metadata": {
        "colab": {
          "base_uri": "https://localhost:8080/"
        },
        "id": "0TRn77qjJhz0",
        "outputId": "7bdee123-8912-4c4d-f6b2-4714e2e365b5"
      },
      "execution_count": 15,
      "outputs": [
        {
          "output_type": "stream",
          "name": "stdout",
          "text": [
            "total of odds:400\n"
          ]
        }
      ]
    },
    {
      "cell_type": "code",
      "source": [],
      "metadata": {
        "id": "h-fzcWdsJh3N"
      },
      "execution_count": null,
      "outputs": []
    },
    {
      "cell_type": "code",
      "source": [],
      "metadata": {
        "id": "YZrSfnzKJh6n"
      },
      "execution_count": null,
      "outputs": []
    },
    {
      "cell_type": "code",
      "source": [],
      "metadata": {
        "id": "GAgxe4F6Jh97"
      },
      "execution_count": null,
      "outputs": []
    },
    {
      "cell_type": "code",
      "source": [],
      "metadata": {
        "id": "XIBjdSBTJiBG"
      },
      "execution_count": null,
      "outputs": []
    },
    {
      "cell_type": "code",
      "source": [],
      "metadata": {
        "id": "sHVAXHWEJiEb"
      },
      "execution_count": null,
      "outputs": []
    },
    {
      "cell_type": "code",
      "source": [],
      "metadata": {
        "id": "3vl0GON1JiHl"
      },
      "execution_count": null,
      "outputs": []
    },
    {
      "cell_type": "code",
      "source": [],
      "metadata": {
        "id": "-Xop1k0pJiKw"
      },
      "execution_count": null,
      "outputs": []
    },
    {
      "cell_type": "code",
      "source": [],
      "metadata": {
        "id": "n73iKbZ0JiNW"
      },
      "execution_count": null,
      "outputs": []
    }
  ]
}