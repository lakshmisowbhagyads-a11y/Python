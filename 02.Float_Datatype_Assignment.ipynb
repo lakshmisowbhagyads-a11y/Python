{
  "cells": [
    {
      "cell_type": "code",
      "execution_count": null,
      "metadata": {
        "colab": {
          "base_uri": "https://localhost:8080/"
        },
        "id": "Ct0L3O6Qz0aW",
        "outputId": "99f0172d-15ac-472f-cbe5-d005e478282c"
      },
      "outputs": [
        {
          "name": "stdout",
          "output_type": "stream",
          "text": [
            "SOLVED EXAMPLE:\n",
            "Calculate the area of a circle with radius 5.5\n",
            "Radius: 5.5\n",
            "Area: 95.03\n",
            "--------------------------------------------------\n"
          ]
        }
      ],
      "source": [
        "# FLOAT DATATYPE ASSIGNMENT\n",
        "# =========================\n",
        "\n",
        "# SOLVED EXAMPLE\n",
        "# --------------\n",
        "# Question: Calculate the area of a circle with radius 5.5\n",
        "print(\"SOLVED EXAMPLE:\")\n",
        "print(\"Calculate the area of a circle with radius 5.5\")\n",
        "import math\n",
        "radius = 5.5\n",
        "area = math.pi * radius ** 2\n",
        "print(f\"Radius: {radius}\")\n",
        "print(f\"Area: {area:.2f}\")\n",
        "print(\"-\" * 50)\n",
        "\n",
        "# ASSIGNMENT QUESTIONS\n"
      ]
    },
    {
      "cell_type": "code",
      "execution_count": null,
      "metadata": {
        "colab": {
          "base_uri": "https://localhost:8080/"
        },
        "id": "qoBmIPgp0z0L",
        "outputId": "eba78e6f-b79c-4947-f932-f6465fe8bcc6"
      },
      "outputs": [
        {
          "name": "stdout",
          "output_type": "stream",
          "text": [
            "average of numbers:2.01325\n"
          ]
        }
      ],
      "source": [
        "# Question 1: Calculate the average of 3.14, 2.718, 1.618, 0.577\n",
        "numbers=[3.14, 2.718, 1.618, 0.577]\n",
        "total=0\n",
        "for i in numbers:\n",
        "  total=total+i\n",
        "  averg= total/len(numbers);\n",
        "print(f\"average of numbers:{averg}\")\n"
      ]
    },
    {
      "cell_type": "code",
      "execution_count": null,
      "metadata": {
        "colab": {
          "background_save": true
        },
        "id": "yV1ZCuRP0z3h",
        "outputId": "ac0d7d2c-fbb1-455a-83bb-c8a5f40f9f3b"
      },
      "outputs": [
        {
          "name": "stdout",
          "output_type": "stream",
          "text": [
            "37.0\n"
          ]
        }
      ],
      "source": [
        "# Question 2: Convert 98.6 Fahrenheit to Celsius (F = C * 9/5 + 32)\n",
        "\n",
        "F=98.6\n",
        "C=(F-32)*(5/9)\n",
        "print(C)"
      ]
    },
    {
      "cell_type": "code",
      "execution_count": 12,
      "metadata": {
        "id": "u_Cai1Xq0z6e",
        "colab": {
          "base_uri": "https://localhost:8080/"
        },
        "outputId": "75b58433-de19-4eb3-a049-2bc12083c9e7"
      },
      "outputs": [
        {
          "output_type": "stream",
          "name": "stdout",
          "text": [
            "\n",
            "Question 3: Calculate compound interest on $1000 at 5.5% for 3 years\n",
            "$174.24137499999983\n"
          ]
        }
      ],
      "source": [
        "# Question 3: Calculate the compound interest on $1000 at 5.5% for 3 years\n",
        "print(\"\\nQuestion 3: Calculate compound interest on $1000 at 5.5% for 3 years\")\n",
        "# Your code here\n",
        "P=1000\n",
        "r=5.5\n",
        "t=3\n",
        "A = P * (1 + r/100) ** t\n",
        "#print(A)\n",
        "CI=A-P\n",
        "print(f\"${CI}\")\n"
      ]
    },
    {
      "cell_type": "code",
      "execution_count": 14,
      "metadata": {
        "id": "isYP7RID0z9x",
        "colab": {
          "base_uri": "https://localhost:8080/"
        },
        "outputId": "665ee0db-97a5-4e70-886a-70b2170d87a8"
      },
      "outputs": [
        {
          "output_type": "stream",
          "name": "stdout",
          "text": [
            "5.4671747731346585\n"
          ]
        }
      ],
      "source": [
        "# Question 4: Find the hypotenuse of a right triangle with sides 3.5 and 4.2\n",
        "a=3.5\n",
        "b=4.2\n",
        "\n",
        "h=(a**2+b**2)**0.5\n",
        "print(h)\n",
        "\n"
      ]
    },
    {
      "cell_type": "code",
      "execution_count": 15,
      "metadata": {
        "id": "XnP93tqY00BG",
        "colab": {
          "base_uri": "https://localhost:8080/"
        },
        "outputId": "a2ba1c9c-270b-478b-bd0c-d55f7dc9d091"
      },
      "outputs": [
        {
          "output_type": "stream",
          "name": "stdout",
          "text": [
            "\n",
            "Question 5: Calculate the volume of a sphere with radius 7.8\n",
            "1491.4491428571428\n"
          ]
        }
      ],
      "source": [
        "# Question 5: Calculate the volume of a sphere with radius 7.8\n",
        "print(\"\\nQuestion 5: Calculate the volume of a sphere with radius 7.8\")\n",
        "r=7.8\n",
        "v=(22/7)*(r**3)\n",
        "print(v)\n",
        "\n"
      ]
    },
    {
      "cell_type": "code",
      "execution_count": 18,
      "metadata": {
        "id": "EPT4kIxL00Ed",
        "colab": {
          "base_uri": "https://localhost:8080/"
        },
        "outputId": "9d2f0fae-c9cf-4cb3-ad4b-3dc7527f4727"
      },
      "outputs": [
        {
          "output_type": "stream",
          "name": "stdout",
          "text": [
            "\n",
            "Question 6: Round 3.14159 to 3 decimal places\n",
            "3.142\n"
          ]
        }
      ],
      "source": [
        "# Question 6: Round 3.14159 to 3 decimal places\n",
        "print(\"\\nQuestion 6: Round 3.14159 to 3 decimal places\")\n",
        "number=3.14159\n",
        "roundnum=round(number,3)\n",
        "print(roundnum)\n"
      ]
    },
    {
      "cell_type": "code",
      "execution_count": 19,
      "metadata": {
        "id": "bgZ3bCtd00II",
        "colab": {
          "base_uri": "https://localhost:8080/"
        },
        "outputId": "2dbf54fc-0e48-452c-ec37-d1766b6ca8bd"
      },
      "outputs": [
        {
          "output_type": "stream",
          "name": "stdout",
          "text": [
            "\n",
            "Question 7: Calculate the percentage: 45 out of 67\n",
            "67.16417910447761\n"
          ]
        }
      ],
      "source": [
        "# Question 7: Calculate the percentage: 45 out of 67\n",
        "print(\"\\nQuestion 7: Calculate the percentage: 45 out of 67\")\n",
        "n=45\n",
        "d=67\n",
        "percent=(n/d)*100\n",
        "print(percent)\n",
        "\n"
      ]
    },
    {
      "cell_type": "code",
      "execution_count": 21,
      "metadata": {
        "id": "uNapSIjH00Lj",
        "colab": {
          "base_uri": "https://localhost:8080/"
        },
        "outputId": "56862c73-0dfa-4a4e-efc2-488ef24768f3"
      },
      "outputs": [
        {
          "output_type": "stream",
          "name": "stdout",
          "text": [
            "\n",
            "Question 8: Find the square root of 23.456\n",
            "4.843139477652899\n"
          ]
        }
      ],
      "source": [
        "# Question 8: Find the square root of 23.456\n",
        "print(\"\\nQuestion 8: Find the square root of 23.456\")\n",
        "numb=23.456\n",
        "sqrt=numb**0.5\n",
        "print(sqrt)\n"
      ]
    },
    {
      "cell_type": "code",
      "execution_count": 23,
      "metadata": {
        "id": "j41J6Dmz00PC",
        "colab": {
          "base_uri": "https://localhost:8080/"
        },
        "outputId": "bb05237a-88af-40ba-be40-1e26d625ee87"
      },
      "outputs": [
        {
          "output_type": "stream",
          "name": "stdout",
          "text": [
            "\n",
            "Question 9: Calculate simple interest: Principal=2500, Rate=6.5%, Time=2.5 years\n",
            "406.25\n"
          ]
        }
      ],
      "source": [
        "# Question 9: Calculate the simple interest: Principal=2500, Rate=6.5%, Time=2.5 years\n",
        "print(\"\\nQuestion 9: Calculate simple interest: Principal=2500, Rate=6.5%, Time=2.5 years\")\n",
        "p=2500\n",
        "r=6.5\n",
        "t=2.5\n",
        "si=(p*r*t)/100\n",
        "print(si)\n",
        "\n"
      ]
    },
    {
      "cell_type": "code",
      "execution_count": 24,
      "metadata": {
        "id": "h471V45v00S6",
        "colab": {
          "base_uri": "https://localhost:8080/"
        },
        "outputId": "c701b428-8903-4397-e8a9-4776f1434da6"
      },
      "outputs": [
        {
          "output_type": "stream",
          "name": "stdout",
          "text": [
            "\n",
            "Question 10: Convert 45.7 degrees to radians\n",
            "0.7976154681614086\n"
          ]
        }
      ],
      "source": [
        "# Question 10: Convert 45.7 degrees to radians\n",
        "print(\"\\nQuestion 10: Convert 45.7 degrees to radians\")\n",
        "import math\n",
        "degrees = 45.7\n",
        "radians = math.radians(degrees)\n",
        "print(radians)"
      ]
    },
    {
      "cell_type": "code",
      "execution_count": null,
      "metadata": {
        "id": "WWH6LzaF00Wy"
      },
      "outputs": [],
      "source": []
    },
    {
      "cell_type": "code",
      "execution_count": null,
      "metadata": {
        "id": "TIlfi8QA00aD"
      },
      "outputs": [],
      "source": []
    },
    {
      "cell_type": "code",
      "execution_count": null,
      "metadata": {
        "id": "k68MliOo00df"
      },
      "outputs": [],
      "source": []
    },
    {
      "cell_type": "code",
      "execution_count": null,
      "metadata": {
        "id": "SKH-nS8100hG"
      },
      "outputs": [],
      "source": []
    },
    {
      "cell_type": "code",
      "execution_count": null,
      "metadata": {
        "id": "6L_qhVsk00kv"
      },
      "outputs": [],
      "source": []
    },
    {
      "cell_type": "code",
      "execution_count": null,
      "metadata": {
        "id": "xEr7zdxW00oO"
      },
      "outputs": [],
      "source": []
    }
  ],
  "metadata": {
    "colab": {
      "provenance": []
    },
    "kernelspec": {
      "display_name": "Python 3",
      "name": "python3"
    },
    "language_info": {
      "name": "python"
    }
  },
  "nbformat": 4,
  "nbformat_minor": 0
}