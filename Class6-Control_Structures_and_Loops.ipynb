{
  "nbformat": 4,
  "nbformat_minor": 0,
  "metadata": {
    "colab": {
      "provenance": []
    },
    "kernelspec": {
      "name": "python3",
      "display_name": "Python 3"
    },
    "language_info": {
      "name": "python"
    }
  },
  "cells": [
    {
      "cell_type": "code",
      "execution_count": null,
      "metadata": {
        "id": "da8uTcqW_3oE"
      },
      "outputs": [],
      "source": [
        "if\n",
        "if else\n",
        "if elif else\n",
        "for\n",
        "while\n",
        "continue\n",
        "break"
      ]
    },
    {
      "cell_type": "code",
      "source": [],
      "metadata": {
        "id": "5oeaL-D9AD3S"
      },
      "execution_count": null,
      "outputs": []
    },
    {
      "cell_type": "code",
      "source": [
        "x=10\n",
        "if x>5:\n",
        "  print(\"test\")\n",
        "  print(\"test2\")\n",
        "  x=2+3\n",
        "  y=10\n",
        "  print(x+y)"
      ],
      "metadata": {
        "colab": {
          "base_uri": "https://localhost:8080/"
        },
        "id": "v9yy6ogXAD0h",
        "outputId": "dd35ce6b-272d-4674-969e-c4c561c9e195"
      },
      "execution_count": null,
      "outputs": [
        {
          "output_type": "stream",
          "name": "stdout",
          "text": [
            "test\n",
            "test2\n",
            "15\n"
          ]
        }
      ]
    },
    {
      "cell_type": "code",
      "source": [
        "x=\"Data\"\n",
        "if not(len(x)%2==0 and x.startswith(\"D\")):\n",
        "  print(\"data\")"
      ],
      "metadata": {
        "id": "M9MzyhkHADsz"
      },
      "execution_count": null,
      "outputs": []
    },
    {
      "cell_type": "code",
      "source": [
        "if 1:\n",
        "  print(\"data\")"
      ],
      "metadata": {
        "colab": {
          "base_uri": "https://localhost:8080/"
        },
        "id": "2GL_2TLjADpq",
        "outputId": "7107ba97-b824-41b4-9aed-23aae7759aeb"
      },
      "execution_count": null,
      "outputs": [
        {
          "output_type": "stream",
          "name": "stdout",
          "text": [
            "data\n"
          ]
        }
      ]
    },
    {
      "cell_type": "code",
      "source": [
        "x=2\n",
        "if x>10:\n",
        "  print(\"data\")\n",
        "else:\n",
        "  print(\"data science\")"
      ],
      "metadata": {
        "colab": {
          "base_uri": "https://localhost:8080/"
        },
        "id": "YUbFjTLQADnP",
        "outputId": "a496642f-47eb-4789-c7ea-a2605524d79c"
      },
      "execution_count": null,
      "outputs": [
        {
          "output_type": "stream",
          "name": "stdout",
          "text": [
            "data science\n"
          ]
        }
      ]
    },
    {
      "cell_type": "code",
      "source": [
        "elif"
      ],
      "metadata": {
        "id": "3_yZ0xQIADkH"
      },
      "execution_count": null,
      "outputs": []
    },
    {
      "cell_type": "code",
      "source": [
        "x=float(input())\n",
        "if x>=80:\n",
        "  print(\"grade 1\")\n",
        "elif x>60 and x<80:\n",
        "  print(\"grade2\")\n",
        "else:\n",
        "  print(\"fail\")"
      ],
      "metadata": {
        "colab": {
          "base_uri": "https://localhost:8080/"
        },
        "id": "oHXqRu1CADeo",
        "outputId": "64d7d688-da9c-416e-cea0-8041c3988568"
      },
      "execution_count": null,
      "outputs": [
        {
          "output_type": "stream",
          "name": "stdout",
          "text": [
            "60\n",
            "fail\n"
          ]
        }
      ]
    },
    {
      "cell_type": "code",
      "source": [
        "x=float(input())\n",
        "x"
      ],
      "metadata": {
        "colab": {
          "base_uri": "https://localhost:8080/"
        },
        "id": "d-10vVlPADM5",
        "outputId": "97d63251-71f4-4f0f-93a2-fefc07ccb7c3"
      },
      "execution_count": null,
      "outputs": [
        {
          "name": "stdout",
          "output_type": "stream",
          "text": [
            "10\n"
          ]
        },
        {
          "output_type": "execute_result",
          "data": {
            "text/plain": [
              "10.0"
            ]
          },
          "metadata": {},
          "execution_count": 21
        }
      ]
    },
    {
      "cell_type": "code",
      "source": [
        "num = int(input(\"Enter a number: \"))\n",
        "if num > 0:\n",
        "    print(\"Positive\")\n",
        "elif num < 0:\n",
        "    print(\"Negative\")\n",
        "else:\n",
        "    print(\"Zero\")\n",
        "\n"
      ],
      "metadata": {
        "colab": {
          "base_uri": "https://localhost:8080/"
        },
        "id": "FPKBC5bCADKS",
        "outputId": "5028941b-5063-4d98-e048-1bcc9ae0ebea"
      },
      "execution_count": null,
      "outputs": [
        {
          "output_type": "stream",
          "name": "stdout",
          "text": [
            "Enter a number: -20\n",
            "Negative\n"
          ]
        }
      ]
    },
    {
      "cell_type": "code",
      "source": [],
      "metadata": {
        "id": "HU8YuAPzADHl"
      },
      "execution_count": null,
      "outputs": []
    },
    {
      "cell_type": "code",
      "source": [
        "num = int(input(\"Enter a number: \"))\n",
        "if num % 2 == 0:\n",
        "    print(\"Even number\")\n",
        "else:\n",
        "    print(\"Odd number\")\n"
      ],
      "metadata": {
        "colab": {
          "base_uri": "https://localhost:8080/"
        },
        "id": "JfuPF8byADFD",
        "outputId": "e0b6ce67-6b8b-49c2-e76d-993d08b1e07d"
      },
      "execution_count": null,
      "outputs": [
        {
          "output_type": "stream",
          "name": "stdout",
          "text": [
            "Enter a number: 21\n",
            "Odd number\n"
          ]
        }
      ]
    },
    {
      "cell_type": "code",
      "source": [],
      "metadata": {
        "id": "gqnOYwcDADCj"
      },
      "execution_count": null,
      "outputs": []
    },
    {
      "cell_type": "code",
      "source": [
        "marks = int(input(\"Enter your marks: \"))\n",
        "if marks >= 90:\n",
        "    print(\"Grade: A\")\n",
        "elif marks >= 75:\n",
        "    print(\"Grade: B\")\n",
        "elif marks >= 50:\n",
        "    print(\"Grade: C\")\n",
        "else:\n",
        "    print(\"Grade: F\")\n"
      ],
      "metadata": {
        "colab": {
          "base_uri": "https://localhost:8080/"
        },
        "id": "EftqTWTHAC_w",
        "outputId": "7278aa3e-b5de-454a-f69c-79fe47fb2338"
      },
      "execution_count": null,
      "outputs": [
        {
          "output_type": "stream",
          "name": "stdout",
          "text": [
            "Enter your marks: 44\n",
            "Grade: F\n"
          ]
        }
      ]
    },
    {
      "cell_type": "code",
      "source": [
        "char = input(\"Enter a single letter: \").lower()\n",
        "if char in 'aeiou':\n",
        "    print(\"Vowel\")\n",
        "else:\n",
        "    print(\"Consonant\")\n"
      ],
      "metadata": {
        "colab": {
          "base_uri": "https://localhost:8080/"
        },
        "id": "oroUuiOFAC85",
        "outputId": "4239f7a5-f5f7-4198-cb94-726ea4568f44"
      },
      "execution_count": null,
      "outputs": [
        {
          "output_type": "stream",
          "name": "stdout",
          "text": [
            "Enter a single letter: d\n",
            "Consonant\n"
          ]
        }
      ]
    },
    {
      "cell_type": "code",
      "source": [
        "username = input(\"Enter a username: \")\n",
        "if len(username) < 5:\n",
        "    print(\"Too short\")\n",
        "elif len(username) > 15:\n",
        "    print(\"Too long\")\n",
        "else:\n",
        "\n",
        "    print(\"Valid username\")\n"
      ],
      "metadata": {
        "colab": {
          "base_uri": "https://localhost:8080/"
        },
        "id": "04QOwXSEAC53",
        "outputId": "76d6ad50-0b93-4ed9-9f4e-a2ecc3e73a0e"
      },
      "execution_count": null,
      "outputs": [
        {
          "output_type": "stream",
          "name": "stdout",
          "text": [
            "Enter a username: data\n",
            "Too short\n"
          ]
        }
      ]
    },
    {
      "cell_type": "code",
      "source": [],
      "metadata": {
        "id": "BOHWLxZfAC2x"
      },
      "execution_count": null,
      "outputs": []
    },
    {
      "cell_type": "code",
      "source": [
        "username = input(\"Enter a username: \")\n",
        "if len(username) < 5:\n",
        "    print(\"Too short\")\n",
        "elif len(username) > 15:\n",
        "    print(\"Too long\")\n",
        "else:\n",
        "    print(\"Valid username\")\n"
      ],
      "metadata": {
        "colab": {
          "base_uri": "https://localhost:8080/"
        },
        "id": "AcsdQlgqACzo",
        "outputId": "b49952d9-b893-4b88-aa7a-8df33f56e5b7"
      },
      "execution_count": null,
      "outputs": [
        {
          "output_type": "stream",
          "name": "stdout",
          "text": [
            "Enter a username: 20.23245\n",
            "Valid username\n"
          ]
        }
      ]
    },
    {
      "cell_type": "code",
      "source": [
        "\"data science\".split()"
      ],
      "metadata": {
        "colab": {
          "base_uri": "https://localhost:8080/"
        },
        "id": "AYjb_U5tACxY",
        "outputId": "c29516b4-f06b-4b5b-a531-e1d9e1f97655"
      },
      "execution_count": null,
      "outputs": [
        {
          "output_type": "execute_result",
          "data": {
            "text/plain": [
              "['data', 'science']"
            ]
          },
          "metadata": {},
          "execution_count": 39
        }
      ]
    },
    {
      "cell_type": "code",
      "source": [
        "\"data science\".split(\"a\")"
      ],
      "metadata": {
        "colab": {
          "base_uri": "https://localhost:8080/"
        },
        "id": "y5qu3DrxHWZF",
        "outputId": "d9504df8-5a7d-4253-e463-9cd82fd12edd"
      },
      "execution_count": null,
      "outputs": [
        {
          "output_type": "execute_result",
          "data": {
            "text/plain": [
              "['d', 't', ' science']"
            ]
          },
          "metadata": {},
          "execution_count": 41
        }
      ]
    },
    {
      "cell_type": "code",
      "source": [
        "for i  in \"data science\".split(\"a\"):\n",
        "  print(i)"
      ],
      "metadata": {
        "colab": {
          "base_uri": "https://localhost:8080/"
        },
        "id": "8lSlhbQPACuK",
        "outputId": "10679891-8eb1-4cc2-f3ab-2cbb57d6cf1c"
      },
      "execution_count": null,
      "outputs": [
        {
          "output_type": "stream",
          "name": "stdout",
          "text": [
            "d\n",
            "t\n",
            " science\n"
          ]
        }
      ]
    },
    {
      "cell_type": "code",
      "source": [
        "for i in \"data756\":\n",
        "  if i.isalpha():\n",
        "    print(i,end=',')"
      ],
      "metadata": {
        "colab": {
          "base_uri": "https://localhost:8080/"
        },
        "id": "yCJ46cApACrZ",
        "outputId": "daacda78-f955-4852-dd01-093bd1da87b7"
      },
      "execution_count": null,
      "outputs": [
        {
          "output_type": "stream",
          "name": "stdout",
          "text": [
            "d,a,t,a,"
          ]
        }
      ]
    },
    {
      "cell_type": "code",
      "source": [
        "\"1\"+\"1\"+\"data\""
      ],
      "metadata": {
        "colab": {
          "base_uri": "https://localhost:8080/",
          "height": 36
        },
        "id": "X-8c-7MwIAmG",
        "outputId": "c98aaf53-522a-47d0-ee28-039bb2d36f4a"
      },
      "execution_count": null,
      "outputs": [
        {
          "output_type": "execute_result",
          "data": {
            "text/plain": [
              "'11data'"
            ],
            "application/vnd.google.colaboratory.intrinsic+json": {
              "type": "string"
            }
          },
          "metadata": {},
          "execution_count": 54
        }
      ]
    },
    {
      "cell_type": "code",
      "source": [
        "for i in range(1,10,2):\n",
        "  print(i,end=',')"
      ],
      "metadata": {
        "colab": {
          "base_uri": "https://localhost:8080/"
        },
        "id": "rUV4wwGeACoR",
        "outputId": "a7674380-3c44-4272-989e-b88ed3f91fe5"
      },
      "execution_count": null,
      "outputs": [
        {
          "output_type": "stream",
          "name": "stdout",
          "text": [
            "1,3,5,7,9,"
          ]
        }
      ]
    },
    {
      "cell_type": "code",
      "source": [
        "for i in range(10,0,-3):\n",
        "  print(i,end=',')"
      ],
      "metadata": {
        "colab": {
          "base_uri": "https://localhost:8080/"
        },
        "id": "_tMCbSEyI2n_",
        "outputId": "13f10927-a1e2-4d17-b90e-135a37b7073c"
      },
      "execution_count": null,
      "outputs": [
        {
          "output_type": "stream",
          "name": "stdout",
          "text": [
            "10,7,4,1,"
          ]
        }
      ]
    },
    {
      "cell_type": "code",
      "source": [
        "for i in range(1,6):\n",
        "  print(\"*\"*(6-i))"
      ],
      "metadata": {
        "colab": {
          "base_uri": "https://localhost:8080/"
        },
        "id": "eGZKw0knJC88",
        "outputId": "a94d0c64-2825-404b-ef16-b789c3cef52f"
      },
      "execution_count": null,
      "outputs": [
        {
          "output_type": "stream",
          "name": "stdout",
          "text": [
            "*****\n",
            "****\n",
            "***\n",
            "**\n",
            "*\n"
          ]
        }
      ]
    },
    {
      "cell_type": "code",
      "source": [
        "for i in range(5,0,-1):\n",
        "  print(\"*\"*i)"
      ],
      "metadata": {
        "colab": {
          "base_uri": "https://localhost:8080/"
        },
        "id": "uG8bIPcMJZBJ",
        "outputId": "65a8b54f-3cc5-40b9-b31d-5ffd9673d131"
      },
      "execution_count": null,
      "outputs": [
        {
          "output_type": "stream",
          "name": "stdout",
          "text": [
            "*****\n",
            "****\n",
            "***\n",
            "**\n",
            "*\n"
          ]
        }
      ]
    },
    {
      "cell_type": "code",
      "source": [
        "customer_review='''customers find the laptop's build quality good, with one\n",
        "noting its premium look a@$@%@%nd feel, and consider it good value\n",
        " for money. Moreover, the sound quality is acceptable, and\n",
        " they find it suitable fo@$@4r student use. However, the performance\n",
        " receives mixed feedback, with some finding it satisfying while others\n",
        " describe it as extremely bad. Addit@@@%2ionally, the fingerprint sensor is not available,\n",
        "and cus24$@$@%tomers report poor battery performance.'''"
      ],
      "metadata": {
        "id": "EOPWuaBlKeoG"
      },
      "execution_count": null,
      "outputs": []
    },
    {
      "cell_type": "code",
      "source": [
        "customer_review"
      ],
      "metadata": {
        "colab": {
          "base_uri": "https://localhost:8080/",
          "height": 88
        },
        "id": "LpEE7FBQK6hN",
        "outputId": "01ea2d14-568d-4802-ca12-1de586576e23"
      },
      "execution_count": null,
      "outputs": [
        {
          "output_type": "execute_result",
          "data": {
            "text/plain": [
              "\"customers find the laptop's build quality good, with one \\nnoting its premium look and feel, and consider it good value\\n for money. Moreover, the sound quality is acceptable, and \\n they find it suitable for student use. However, the performance \\n receives mixed feedback, with some finding it satisfying while others \\n describe it as extremely bad. Additionally, the fingerprint sensor is not available, \\nand customers report poor battery performance.\""
            ],
            "application/vnd.google.colaboratory.intrinsic+json": {
              "type": "string"
            }
          },
          "metadata": {},
          "execution_count": 87
        }
      ]
    },
    {
      "cell_type": "code",
      "source": [
        "d={}\n",
        "for i in customer_review.split():\n",
        "  d[i]=len(i)"
      ],
      "metadata": {
        "id": "HlbBQfs2K-m9"
      },
      "execution_count": null,
      "outputs": []
    },
    {
      "cell_type": "code",
      "source": [
        "d"
      ],
      "metadata": {
        "colab": {
          "base_uri": "https://localhost:8080/"
        },
        "id": "KRXQ_g-cK-jd",
        "outputId": "831dfaba-1498-4d97-dd46-553c3d2d1621"
      },
      "execution_count": null,
      "outputs": [
        {
          "output_type": "execute_result",
          "data": {
            "text/plain": [
              "{'customers': 9,\n",
              " 'find': 4,\n",
              " 'the': 3,\n",
              " \"laptop's\": 8,\n",
              " 'build': 5,\n",
              " 'quality': 7,\n",
              " 'good,': 5,\n",
              " 'with': 4,\n",
              " 'one': 3,\n",
              " 'noting': 6,\n",
              " 'its': 3,\n",
              " 'premium': 7,\n",
              " 'look': 4,\n",
              " 'a@$@%@%nd': 9,\n",
              " 'feel,': 5,\n",
              " 'and': 3,\n",
              " 'consider': 8,\n",
              " 'it': 2,\n",
              " 'good': 4,\n",
              " 'value': 5,\n",
              " 'for': 3,\n",
              " 'money.': 6,\n",
              " 'Moreover,': 9,\n",
              " 'sound': 5,\n",
              " 'is': 2,\n",
              " 'acceptable,': 11,\n",
              " 'they': 4,\n",
              " 'suitable': 8,\n",
              " 'fo@$@4r': 7,\n",
              " 'student': 7,\n",
              " 'use.': 4,\n",
              " 'However,': 8,\n",
              " 'performance': 11,\n",
              " 'receives': 8,\n",
              " 'mixed': 5,\n",
              " 'feedback,': 9,\n",
              " 'some': 4,\n",
              " 'finding': 7,\n",
              " 'satisfying': 10,\n",
              " 'while': 5,\n",
              " 'others': 6,\n",
              " 'describe': 8,\n",
              " 'as': 2,\n",
              " 'extremely': 9,\n",
              " 'bad.': 4,\n",
              " 'Addit@@@%2ionally,': 18,\n",
              " 'fingerprint': 11,\n",
              " 'sensor': 6,\n",
              " 'not': 3,\n",
              " 'available,': 10,\n",
              " 'cus24$@$@%tomers': 16,\n",
              " 'report': 6,\n",
              " 'poor': 4,\n",
              " 'battery': 7,\n",
              " 'performance.': 12}"
            ]
          },
          "metadata": {},
          "execution_count": 97
        }
      ]
    },
    {
      "cell_type": "code",
      "source": [],
      "metadata": {
        "id": "-th3TCyuK-g5"
      },
      "execution_count": null,
      "outputs": []
    },
    {
      "cell_type": "code",
      "source": [
        "customer_review\n",
        "counter=0\n",
        "for i in customer_review:\n",
        "  if i not in \"aeiouAEIOU\" and i.isalpha():\n",
        "    counter=counter+1\n",
        "print(counter)"
      ],
      "metadata": {
        "colab": {
          "base_uri": "https://localhost:8080/"
        },
        "id": "yf48upUJK-cm",
        "outputId": "3bdd8196-8394-4262-a560-6328c5ddf032"
      },
      "execution_count": null,
      "outputs": [
        {
          "output_type": "stream",
          "name": "stdout",
          "text": [
            "222\n"
          ]
        }
      ]
    },
    {
      "cell_type": "code",
      "source": [
        "customer_review"
      ],
      "metadata": {
        "colab": {
          "base_uri": "https://localhost:8080/",
          "height": 88
        },
        "id": "xN3klS1FNIYK",
        "outputId": "788ebe39-baac-4367-e596-0d5060d38831"
      },
      "execution_count": null,
      "outputs": [
        {
          "output_type": "execute_result",
          "data": {
            "text/plain": [
              "\"customers find the laptop's build quality good, with one \\nnoting its premium look a@$@%@%nd feel, and consider it good value\\n for money. Moreover, the sound quality is acceptable, and \\n they find it suitable fo@$@4r student use. However, the performance \\n receives mixed feedback, with some finding it satisfying while others \\n describe it as extremely bad. Addit@@@%2ionally, the fingerprint sensor is not available, \\nand cus24$@$@%tomers report poor battery performance.\""
            ],
            "application/vnd.google.colaboratory.intrinsic+json": {
              "type": "string"
            }
          },
          "metadata": {},
          "execution_count": 102
        }
      ]
    },
    {
      "cell_type": "code",
      "source": [
        "d\n",
        "da\n",
        "dat\n",
        "data"
      ],
      "metadata": {
        "id": "Ser_oSWBNIUh"
      },
      "execution_count": null,
      "outputs": []
    },
    {
      "cell_type": "code",
      "source": [
        "x=\"data\"\n",
        "\n",
        "for i in range(1,len(x)+1):\n",
        "  print(x[0:i])"
      ],
      "metadata": {
        "colab": {
          "base_uri": "https://localhost:8080/"
        },
        "id": "IM5kMKqoNrV1",
        "outputId": "8e90c8b9-f724-486d-824f-3c434015e331"
      },
      "execution_count": null,
      "outputs": [
        {
          "output_type": "stream",
          "name": "stdout",
          "text": [
            "d\n",
            "da\n",
            "dat\n",
            "data\n"
          ]
        }
      ]
    },
    {
      "cell_type": "code",
      "source": [
        "for i in range(0,10,2):\n",
        "  for j in range(0,10,3):\n",
        "    print(i,j,end=' - ')"
      ],
      "metadata": {
        "colab": {
          "base_uri": "https://localhost:8080/"
        },
        "id": "6hDb4jg3OXnn",
        "outputId": "3213384b-bce6-49a2-c52d-bd253d216dfa"
      },
      "execution_count": null,
      "outputs": [
        {
          "output_type": "stream",
          "name": "stdout",
          "text": [
            "0 0 - 0 3 - 0 6 - 0 9 - 2 0 - 2 3 - 2 6 - 2 9 - 4 0 - 4 3 - 4 6 - 4 9 - 6 0 - 6 3 - 6 6 - 6 9 - 8 0 - 8 3 - 8 6 - 8 9 - "
          ]
        }
      ]
    },
    {
      "cell_type": "code",
      "source": [
        "*\n",
        "**\n",
        "***\n",
        "****\n",
        "*****\n",
        "****\n",
        "***\n",
        "**\n",
        "*"
      ],
      "metadata": {
        "id": "rMx-rcmTP6BA"
      },
      "execution_count": null,
      "outputs": []
    }
  ]
}