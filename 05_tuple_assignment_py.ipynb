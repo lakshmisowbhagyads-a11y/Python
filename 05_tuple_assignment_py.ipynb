{
  "nbformat": 4,
  "nbformat_minor": 0,
  "metadata": {
    "colab": {
      "provenance": []
    },
    "kernelspec": {
      "name": "python3",
      "display_name": "Python 3"
    },
    "language_info": {
      "name": "python"
    }
  },
  "cells": [
    {
      "cell_type": "code",
      "execution_count": 1,
      "metadata": {
        "colab": {
          "base_uri": "https://localhost:8080/"
        },
        "id": "GF8LfSo9j9YQ",
        "outputId": "c853f96b-6ab3-484e-d173-6fa209f964d9"
      },
      "outputs": [
        {
          "output_type": "stream",
          "name": "stdout",
          "text": [
            "SOLVED EXAMPLE:\n",
            "Find the sum and product of all elements in a tuple\n",
            "Tuple: (2, 4, 6, 8, 10)\n",
            "Sum: 30\n",
            "Product: 3840\n",
            "--------------------------------------------------\n"
          ]
        }
      ],
      "source": [
        "# TUPLE DATATYPE ASSIGNMENT\n",
        "# ========================\n",
        "\n",
        "# SOLVED EXAMPLE\n",
        "# --------------\n",
        "# Question: Find the sum and product of all elements in a tuple\n",
        "print(\"SOLVED EXAMPLE:\")\n",
        "print(\"Find the sum and product of all elements in a tuple\")\n",
        "numbers = (2, 4, 6, 8, 10)\n",
        "sum_tuple = sum(numbers)\n",
        "product = 1\n",
        "for num in numbers:\n",
        "    product *= num\n",
        "print(f\"Tuple: {numbers}\")\n",
        "print(f\"Sum: {sum_tuple}\")\n",
        "print(f\"Product: {product}\")\n",
        "print(\"-\" * 50)\n",
        "\n",
        "\n"
      ]
    },
    {
      "cell_type": "code",
      "source": [
        "# Question 1: Create a tuple of first 10 natural numbers\n",
        "t1 = tuple(range(1, 11))\n",
        "print(t1)\n",
        "\n"
      ],
      "metadata": {
        "colab": {
          "base_uri": "https://localhost:8080/"
        },
        "id": "eIoMMQihJz2s",
        "outputId": "77e854ec-72c3-4863-8929-30eff8d4e2f9"
      },
      "execution_count": 2,
      "outputs": [
        {
          "output_type": "stream",
          "name": "stdout",
          "text": [
            "(1, 2, 3, 4, 5, 6, 7, 8, 9, 10)\n"
          ]
        }
      ]
    },
    {
      "cell_type": "code",
      "source": [
        "\n",
        "# Question 2: Find the length of tuple (1, 2, 3, 4, 5, 6, 7, 8, 9, 10)\n",
        "t2 = (1, 2, 3, 4, 5, 6, 7, 8, 9, 10)\n",
        "print(len(t2))\n",
        "\n"
      ],
      "metadata": {
        "colab": {
          "base_uri": "https://localhost:8080/"
        },
        "id": "Sx20HoXlJ03E",
        "outputId": "80c78204-0a8d-4bea-97c5-1aa5988c8ef8"
      },
      "execution_count": 3,
      "outputs": [
        {
          "output_type": "stream",
          "name": "stdout",
          "text": [
            "10\n"
          ]
        }
      ]
    },
    {
      "cell_type": "code",
      "source": [
        "# Question 3: Access the 3rd element from tuple ('a', 'b', 'c', 'd', 'e')\n",
        "\n",
        "t3 = ('a', 'b', 'c', 'd', 'e')\n",
        "print(t3[2])\n",
        "\n"
      ],
      "metadata": {
        "colab": {
          "base_uri": "https://localhost:8080/"
        },
        "id": "HJ2B-jX3J1Zc",
        "outputId": "ce83584a-1e40-45c7-ed36-c25d2724b640"
      },
      "execution_count": 4,
      "outputs": [
        {
          "output_type": "stream",
          "name": "stdout",
          "text": [
            "c\n"
          ]
        }
      ]
    },
    {
      "cell_type": "code",
      "source": [
        "# Question 4: Find the maximum value in tuple (23, 45, 12, 67, 34, 89, 56)\n",
        "t4 = (23, 45, 12, 67, 34, 89, 56)\n",
        "print(max(t4))\n",
        "\n"
      ],
      "metadata": {
        "colab": {
          "base_uri": "https://localhost:8080/"
        },
        "id": "hCs0uEQoJ1zm",
        "outputId": "6dbc02b5-ea03-4679-d6f0-bdc76b4c1c43"
      },
      "execution_count": 5,
      "outputs": [
        {
          "output_type": "stream",
          "name": "stdout",
          "text": [
            "89\n"
          ]
        }
      ]
    },
    {
      "cell_type": "code",
      "source": [
        "# Question 5: Count how many times 5 appears in (1, 5, 2, 5, 3, 5, 4, 5, 6)\n",
        "t5 = (1, 5, 2, 5, 3, 5, 4, 5, 6)\n",
        "print(t5.count(5))\n",
        "\n"
      ],
      "metadata": {
        "colab": {
          "base_uri": "https://localhost:8080/"
        },
        "id": "-PBiXCBzJ2e4",
        "outputId": "d12fdcb1-fcae-4f87-a436-cb99894b943a"
      },
      "execution_count": 6,
      "outputs": [
        {
          "output_type": "stream",
          "name": "stdout",
          "text": [
            "4\n"
          ]
        }
      ]
    },
    {
      "cell_type": "code",
      "source": [
        "# Question 6: Create a tuple of mixed data types (integer, float, string, boolean)\n",
        "t6 = (42, 3.14, \"Hello\", True)\n",
        "print(t6)\n",
        "\n"
      ],
      "metadata": {
        "colab": {
          "base_uri": "https://localhost:8080/"
        },
        "id": "UcDmgtOKJ22r",
        "outputId": "349d042b-8365-433b-f279-c832eb063f10"
      },
      "execution_count": 7,
      "outputs": [
        {
          "output_type": "stream",
          "name": "stdout",
          "text": [
            "(42, 3.14, 'Hello', True)\n"
          ]
        }
      ]
    },
    {
      "cell_type": "code",
      "source": [
        "# Question 7: Find the index of element 'python' in ('java', 'python', 'c++', 'javascript')\n",
        "t7 = ('java', 'python', 'c++', 'javascript')\n",
        "print(t7.index('python'))\n",
        "\n"
      ],
      "metadata": {
        "colab": {
          "base_uri": "https://localhost:8080/"
        },
        "id": "uE98fSuqJ3Ns",
        "outputId": "cacb2dab-e0f7-4f0a-88f5-c20e326d2f25"
      },
      "execution_count": 8,
      "outputs": [
        {
          "output_type": "stream",
          "name": "stdout",
          "text": [
            "1\n"
          ]
        }
      ]
    },
    {
      "cell_type": "code",
      "source": [
        "# Question 8: Check if 25 exists in tuple (10, 20, 30, 40, 50)\n",
        "t8 = (10, 20, 30, 40, 50)\n",
        "print(25 in t8)\n",
        "\n"
      ],
      "metadata": {
        "colab": {
          "base_uri": "https://localhost:8080/"
        },
        "id": "kqxHoJS7KNSk",
        "outputId": "0db1a904-7af2-4d72-9277-a11f881bc945"
      },
      "execution_count": 9,
      "outputs": [
        {
          "output_type": "stream",
          "name": "stdout",
          "text": [
            "False\n"
          ]
        }
      ]
    },
    {
      "cell_type": "code",
      "source": [
        "# Question 9: Create a tuple of first 5 even numbers\n",
        "print(\"\\nQuestion 9: Create a tuple of first 5 even numbers\")\n",
        "t9 = tuple(range(2, 11, 2))\n",
        "print(t9)\n",
        "\n"
      ],
      "metadata": {
        "colab": {
          "base_uri": "https://localhost:8080/"
        },
        "id": "lRlPtcwjKOnO",
        "outputId": "8781d582-9cd3-4015-f8d4-be5e9d42a969"
      },
      "execution_count": 10,
      "outputs": [
        {
          "output_type": "stream",
          "name": "stdout",
          "text": [
            "\n",
            "Question 9: Create a tuple of first 5 even numbers\n",
            "(2, 4, 6, 8, 10)\n"
          ]
        }
      ]
    },
    {
      "cell_type": "code",
      "source": [
        "# Question 10: Find the average of numbers in tuple (15, 23, 31, 42, 56, 78)\n",
        "print(\"\\nQuestion 10: Find the average of numbers in tuple (15, 23, 31, 42, 56, 78)\")\n",
        "t10 = (15, 23, 31, 42, 56, 78)\n",
        "avg = sum(t10) / len(t10)\n",
        "print(avg)"
      ],
      "metadata": {
        "colab": {
          "base_uri": "https://localhost:8080/"
        },
        "id": "xafcw7TZKQLu",
        "outputId": "74298d93-6687-4789-d19d-19a6baff0eb1"
      },
      "execution_count": 11,
      "outputs": [
        {
          "output_type": "stream",
          "name": "stdout",
          "text": [
            "\n",
            "Question 10: Find the average of numbers in tuple (15, 23, 31, 42, 56, 78)\n",
            "40.833333333333336\n"
          ]
        }
      ]
    }
  ]
}