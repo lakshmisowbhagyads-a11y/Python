{
  "nbformat": 4,
  "nbformat_minor": 0,
  "metadata": {
    "colab": {
      "provenance": []
    },
    "kernelspec": {
      "name": "python3",
      "display_name": "Python 3"
    },
    "language_info": {
      "name": "python"
    }
  },
  "cells": [
    {
      "cell_type": "code",
      "execution_count": 1,
      "metadata": {
        "colab": {
          "base_uri": "https://localhost:8080/"
        },
        "id": "AsRWkythauZv",
        "outputId": "80dbbf74-e83d-4f15-b137-523b130fce6f"
      },
      "outputs": [
        {
          "output_type": "stream",
          "name": "stdout",
          "text": [
            "SOLVED EXAMPLE:\n",
            "Find the key with maximum value in a dictionary\n",
            "Dictionary: {'Alice': 85, 'Bob': 92, 'Charlie': 78, 'Diana': 95, 'Eve': 88}\n",
            "Key with maximum value: Diana\n",
            "Maximum value: 95\n",
            "--------------------------------------------------\n"
          ]
        }
      ],
      "source": [
        "# DICTIONARY DATATYPE ASSIGNMENT - 50 QUESTIONS\n",
        "# ============================================\n",
        "\n",
        "# SOLVED EXAMPLE\n",
        "# --------------\n",
        "# Question: Find the key with maximum value in a dictionary\n",
        "print(\"SOLVED EXAMPLE:\")\n",
        "print(\"Find the key with maximum value in a dictionary\")\n",
        "scores = {'Alice': 85, 'Bob': 92, 'Charlie': 78, 'Diana': 95, 'Eve': 88}\n",
        "max_key = max(scores, key=scores.get)\n",
        "max_value = scores[max_key]\n",
        "print(f\"Dictionary: {scores}\")\n",
        "print(f\"Key with maximum value: {max_key}\")\n",
        "print(f\"Maximum value: {max_value}\")\n",
        "print(\"-\" * 50)\n",
        "\n",
        "# ASSIGNMENT QUESTIONS (50 QUESTIONS)\n",
        "# ==================================\n"
      ]
    },
    {
      "cell_type": "code",
      "source": [
        "\n",
        "# Question 1: Create a dictionary of student names and their ages\n",
        "students = {\"RAM\": 20, \"SHYAM\": 22, \"SITA\": 19}\n",
        "print(students)\n"
      ],
      "metadata": {
        "colab": {
          "base_uri": "https://localhost:8080/"
        },
        "id": "D_nbsEQna3y6",
        "outputId": "342854c8-3cb0-4a1f-bb45-8153d23ad391"
      },
      "execution_count": 2,
      "outputs": [
        {
          "output_type": "stream",
          "name": "stdout",
          "text": [
            "{'RAM': 20, 'SHYAM': 22, 'SITA': 19}\n"
          ]
        }
      ]
    },
    {
      "cell_type": "code",
      "source": [
        "\n",
        "# Question 2: Add a new key-value pair to dictionary {'a': 1, 'b': 2, 'c': 3}\n",
        "alpha={'a': 1, 'b': 2, 'c': 3}\n",
        "alpha['d']=8\n",
        "print(alpha)\n"
      ],
      "metadata": {
        "colab": {
          "base_uri": "https://localhost:8080/"
        },
        "id": "HzswMC99a32L",
        "outputId": "9358a5aa-b75a-41e3-fa34-85fbf915e7b6"
      },
      "execution_count": 5,
      "outputs": [
        {
          "output_type": "stream",
          "name": "stdout",
          "text": [
            "{'a': 1, 'b': 2, 'c': 3, 'd': 8}\n"
          ]
        }
      ]
    },
    {
      "cell_type": "code",
      "source": [
        "# Question 3: Get all keys from dictionary {'name': 'John', 'age': 25, 'city': 'New York'}\n",
        "dict={'name': 'John', 'age': 25, 'city': 'New York'}\n",
        "print(dict.keys())\n",
        "\n"
      ],
      "metadata": {
        "colab": {
          "base_uri": "https://localhost:8080/"
        },
        "id": "RNLUEsH3a357",
        "outputId": "63a14569-1698-4a1d-d351-d3c70983c867"
      },
      "execution_count": 2,
      "outputs": [
        {
          "output_type": "stream",
          "name": "stdout",
          "text": [
            "dict_keys(['name', 'age', 'city'])\n"
          ]
        }
      ]
    },
    {
      "cell_type": "code",
      "source": [
        "# Question 4: Get all values from dictionary {'python': 3, 'java': 2, 'c++': 1}\n",
        "dict={'python': 3, 'java': 2, 'c++': 1}\n",
        "print(dict.values())\n",
        "\n"
      ],
      "metadata": {
        "colab": {
          "base_uri": "https://localhost:8080/"
        },
        "id": "oGswm3V_cbBo",
        "outputId": "9f42bb32-769f-4e9a-8f6e-7334acc1db13"
      },
      "execution_count": 1,
      "outputs": [
        {
          "output_type": "stream",
          "name": "stdout",
          "text": [
            "dict_values([3, 2, 1])\n"
          ]
        }
      ]
    },
    {
      "cell_type": "code",
      "source": [
        "# Question 5: Check if key 'age' exists in {'name': 'Alice', 'age': 30, 'city': 'London'}\n",
        "d = {'name': 'Alice', 'age': 30, 'city': 'London'}\n",
        "print('age' in d)\n",
        "\n"
      ],
      "metadata": {
        "colab": {
          "base_uri": "https://localhost:8080/"
        },
        "id": "daYFLBkIcbHR",
        "outputId": "987d04a4-a594-40e2-c64a-2b3829cd5804"
      },
      "execution_count": 3,
      "outputs": [
        {
          "output_type": "stream",
          "name": "stdout",
          "text": [
            "True\n"
          ]
        }
      ]
    },
    {
      "cell_type": "code",
      "source": [
        "# Question 6: Remove key 'temp' from {'a': 1, 'b': 2, 'temp': 3, 'c': 4}\n",
        "dict = {'a': 1, 'b': 2, 'temp': 3, 'c': 4}\n",
        "dict.pop('temp')\n",
        "print(dict)\n",
        "\n"
      ],
      "metadata": {
        "id": "TFSc7fCgcbKX"
      },
      "execution_count": null,
      "outputs": []
    },
    {
      "cell_type": "code",
      "source": [
        "# Question 7: Find the sum of all values in {'math': 85, 'science': 92, 'english': 78}\n",
        "dict={'math': 85, 'science': 92, 'english': 78}\n",
        "total=sum(dict.values())\n",
        "print(total)\n",
        "\n"
      ],
      "metadata": {
        "colab": {
          "base_uri": "https://localhost:8080/"
        },
        "id": "0i4nY_ZLcbN4",
        "outputId": "53122fcb-f715-4427-ad49-dfa93dc02f11"
      },
      "execution_count": 4,
      "outputs": [
        {
          "output_type": "stream",
          "name": "stdout",
          "text": [
            "255\n"
          ]
        }
      ]
    },
    {
      "cell_type": "code",
      "source": [
        "\n",
        "# Question 8: Create a dictionary with squares of numbers 1 to 5\n",
        "d = {i: i**2 for i in range(1, 6)}\n",
        "print(d)\n",
        "\n"
      ],
      "metadata": {
        "colab": {
          "base_uri": "https://localhost:8080/"
        },
        "id": "ViefrQyk8ohE",
        "outputId": "413287b1-4058-4e9b-e80b-2862e1d00578"
      },
      "execution_count": 5,
      "outputs": [
        {
          "output_type": "stream",
          "name": "stdout",
          "text": [
            "{1: 1, 2: 4, 3: 9, 4: 16, 5: 25}\n"
          ]
        }
      ]
    },
    {
      "cell_type": "code",
      "source": [
        "#Question 9:Count frequency of each character in string 'hello'\"\n",
        "d = {}\n",
        "for ch in \"hello\":\n",
        "    d[ch] = d.get(ch, 0) + 1\n",
        "print(d)"
      ],
      "metadata": {
        "colab": {
          "base_uri": "https://localhost:8080/"
        },
        "id": "D963VRmncbRg",
        "outputId": "52feebfc-de35-4e24-ea65-dc7564efe85e"
      },
      "execution_count": 6,
      "outputs": [
        {
          "output_type": "stream",
          "name": "stdout",
          "text": [
            "{'h': 1, 'e': 1, 'l': 2, 'o': 1}\n"
          ]
        }
      ]
    },
    {
      "cell_type": "code",
      "source": [
        "# Question 10 Merge two dictionaries {'a': 1, 'b': 2} and {'c': 3, 'd': 4}\")\n",
        "d = {'a': 1, 'b': 2}\n",
        "d.update({'c': 3, 'd': 4})\n",
        "print(d)"
      ],
      "metadata": {
        "colab": {
          "base_uri": "https://localhost:8080/"
        },
        "id": "-bM-1FtRALrJ",
        "outputId": "66e436b6-b9fe-450e-f121-5070cd496efa"
      },
      "execution_count": 7,
      "outputs": [
        {
          "output_type": "stream",
          "name": "stdout",
          "text": [
            "{'a': 1, 'b': 2, 'c': 3, 'd': 4}\n"
          ]
        }
      ]
    },
    {
      "cell_type": "code",
      "source": [],
      "metadata": {
        "id": "kOYbCaUoALvU"
      },
      "execution_count": null,
      "outputs": []
    },
    {
      "cell_type": "code",
      "source": [],
      "metadata": {
        "id": "hx472-E4ALzD"
      },
      "execution_count": null,
      "outputs": []
    }
  ]
}