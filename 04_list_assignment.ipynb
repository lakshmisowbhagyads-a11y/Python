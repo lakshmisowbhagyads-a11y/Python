{
  "nbformat": 4,
  "nbformat_minor": 0,
  "metadata": {
    "colab": {
      "provenance": []
    },
    "kernelspec": {
      "name": "python3",
      "display_name": "Python 3"
    },
    "language_info": {
      "name": "python"
    }
  },
  "cells": [
    {
      "cell_type": "code",
      "execution_count": null,
      "metadata": {
        "colab": {
          "base_uri": "https://localhost:8080/"
        },
        "id": "GIFHOVOypgTE",
        "outputId": "97246e09-1280-414f-8a58-bef4a1d0c63d"
      },
      "outputs": [
        {
          "output_type": "stream",
          "name": "stdout",
          "text": [
            "SOLVED EXAMPLE:\n",
            "Find the maximum and minimum values in a list\n",
            "List: [23, 45, 12, 67, 34, 89, 56]\n",
            "Maximum: 89\n",
            "Minimum: 12\n",
            "--------------------------------------------------\n"
          ]
        }
      ],
      "source": [
        "# LIST DATATYPE ASSIGNMENT - 50 QUESTIONS\n",
        "# ======================================\n",
        "\n",
        "# SOLVED EXAMPLE\n",
        "# --------------\n",
        "# Question: Find the maximum and minimum values in a list\n",
        "print(\"SOLVED EXAMPLE:\")\n",
        "print(\"Find the maximum and minimum values in a list\")\n",
        "numbers = [23, 45, 12, 67, 34, 89, 56]\n",
        "max_val = max(numbers)\n",
        "min_val = min(numbers)\n",
        "print(f\"List: {numbers}\")\n",
        "print(f\"Maximum: {max_val}\")\n",
        "print(f\"Minimum: {min_val}\")\n",
        "print(\"-\" * 50)\n",
        "\n"
      ]
    },
    {
      "cell_type": "code",
      "source": [
        "# ASSIGNMENT QUESTIONS (50 QUESTIONS)\n",
        "# ==================================\n",
        "\n",
        "# Question 1: Create a list of first 10 square numbers\n",
        "sqr=[]\n",
        "for i in range(1,11):\n",
        "  sqr.append(i**2)\n",
        "print(sqr)\n",
        "\n",
        "\n"
      ],
      "metadata": {
        "colab": {
          "base_uri": "https://localhost:8080/"
        },
        "id": "VVunlnTSpwX8",
        "outputId": "35d0e7de-cd0d-42a9-eb7a-201ee35f1e28"
      },
      "execution_count": null,
      "outputs": [
        {
          "output_type": "stream",
          "name": "stdout",
          "text": [
            "[1, 4, 9, 16, 25, 36, 49, 64, 81, 100]\n"
          ]
        }
      ]
    },
    {
      "cell_type": "code",
      "source": [
        "# Question 11: Flatten nested list\n",
        "nested_list = [[1, 2, 3], [4, 5, 6], [7, 8, 9]]\n",
        "flat=[]\n",
        "for i in nested_list:\n",
        "  for j in i:\n",
        "    flat.append(j)\n",
        "print(flat)"
      ],
      "metadata": {
        "id": "w2Q881K9pwbM",
        "colab": {
          "base_uri": "https://localhost:8080/"
        },
        "outputId": "2102e37d-583b-40b3-bf8a-534cd6143c91"
      },
      "execution_count": 1,
      "outputs": [
        {
          "output_type": "stream",
          "name": "stdout",
          "text": [
            "[1, 2, 3, 4, 5, 6, 7, 8, 9]\n"
          ]
        }
      ]
    },
    {
      "cell_type": "code",
      "source": [
        "# Question 12: Find common elements\n",
        "list1 = [1, 2, 3, 4, 5]\n",
        "list2 = [4, 5, 6, 7, 8]\n",
        "#k=set(list1)\n",
        "#print(k)\n",
        "# & is intersection operation\n",
        "common = list(set(list1) & set(list2))\n",
        "print( common)\n"
      ],
      "metadata": {
        "id": "NyUIMqejpweY",
        "colab": {
          "base_uri": "https://localhost:8080/"
        },
        "outputId": "13b7cd09-191e-4ff1-94fe-f6d15178321b"
      },
      "execution_count": 5,
      "outputs": [
        {
          "output_type": "stream",
          "name": "stdout",
          "text": [
            "[4, 5]\n"
          ]
        }
      ]
    },
    {
      "cell_type": "code",
      "source": [
        "# Question 13: Create a list of lists\n",
        "list_of_lists = [[1, 2], [3, 4], [5, 6]]\n",
        "print(list_of_lists)"
      ],
      "metadata": {
        "id": "t4_1FvuBpwh6",
        "colab": {
          "base_uri": "https://localhost:8080/"
        },
        "outputId": "62bfc1ad-c00d-4233-89f3-e21e9bc05dad"
      },
      "execution_count": 6,
      "outputs": [
        {
          "output_type": "stream",
          "name": "stdout",
          "text": [
            "[[1, 2], [3, 4], [5, 6]]\n"
          ]
        }
      ]
    },
    {
      "cell_type": "code",
      "source": [
        "# Question 14: Sum of each sublist\n",
        "nested_list=[[1, 2, 3], [4, 5, 6], [7, 8, 9]]\n",
        "sums = [sum(sub) for sub in nested_list]\n",
        "print( sums)\n"
      ],
      "metadata": {
        "id": "D2yv3UCipwoE",
        "colab": {
          "base_uri": "https://localhost:8080/"
        },
        "outputId": "70909861-8fce-4139-f43e-4c35fdbdd54e"
      },
      "execution_count": 9,
      "outputs": [
        {
          "output_type": "stream",
          "name": "stdout",
          "text": [
            "[6, 15, 24]\n"
          ]
        }
      ]
    },
    {
      "cell_type": "code",
      "source": [
        "# Question 15: Transpose matrix\n",
        "nested_list=[[1, 2, 3], [4, 5, 6], [7, 8, 9]]\n",
        "transposed = [list(row) for row in zip(*nested_list)]\n",
        "print(\"Q15:\", transposed)"
      ],
      "metadata": {
        "id": "_EJFb5kmoMJY"
      },
      "execution_count": null,
      "outputs": []
    },
    {
      "cell_type": "code",
      "source": [],
      "metadata": {
        "id": "MfZIQzWloMNe"
      },
      "execution_count": null,
      "outputs": []
    },
    {
      "cell_type": "code",
      "source": [],
      "metadata": {
        "id": "YKzfCv8loMRJ"
      },
      "execution_count": null,
      "outputs": []
    },
    {
      "cell_type": "code",
      "source": [],
      "metadata": {
        "id": "mi34dTF-oMUk"
      },
      "execution_count": null,
      "outputs": []
    }
  ]
}