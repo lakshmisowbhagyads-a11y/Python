{
  "nbformat": 4,
  "nbformat_minor": 0,
  "metadata": {
    "colab": {
      "provenance": []
    },
    "kernelspec": {
      "name": "python3",
      "display_name": "Python 3"
    },
    "language_info": {
      "name": "python"
    }
  },
  "cells": [
    {
      "cell_type": "code",
      "execution_count": null,
      "metadata": {
        "colab": {
          "base_uri": "https://localhost:8080/"
        },
        "id": "TkdaJlSHAfX8",
        "outputId": "f4e5ebde-a87f-4ec9-85a0-1e62edaa77e4"
      },
      "outputs": [
        {
          "output_type": "stream",
          "name": "stdout",
          "text": [
            "SOLVED EXAMPLE:\n",
            "Count vowels in the string 'Hello World'\n",
            "String: Hello World\n",
            "Number of vowels: 3\n",
            "--------------------------------------------------\n"
          ]
        }
      ],
      "source": [
        "# STRING DATATYPE ASSIGNMENT - 50 QUESTIONS\n",
        "# ========================================\n",
        "\n",
        "# SOLVED EXAMPLE\n",
        "# --------------\n",
        "# Question: Count vowels in the string \"Hello World\"\n",
        "print(\"SOLVED EXAMPLE:\")\n",
        "print(\"Count vowels in the string 'Hello World'\")\n",
        "text = \"Hello World\"\n",
        "vowels = \"aeiouAEIOU\"\n",
        "count = sum(1 for char in text if char in vowels)\n",
        "print(f\"String: {text}\")\n",
        "print(f\"Number of vowels: {count}\")\n",
        "print(\"-\" * 50)\n",
        "\n"
      ]
    },
    {
      "cell_type": "code",
      "source": [
        "# ASSIGNMENT QUESTIONS (50 QUESTIONS)\n",
        "# ==================================\n",
        "\n",
        "# Question 1: Reverse the string \"Python Programming\"\n",
        "print(\"Question 1: Reverse the string 'Python Programming'\")\n",
        "text=\"Python Programming\"\n",
        "rev_text = text[::-1]\n",
        "print(rev_text)\n",
        "\n",
        "\n"
      ],
      "metadata": {
        "colab": {
          "base_uri": "https://localhost:8080/"
        },
        "id": "HLUcPqzRAjOM",
        "outputId": "d0cfa6db-f600-45dc-8f31-b7258a778dd5"
      },
      "execution_count": null,
      "outputs": [
        {
          "output_type": "stream",
          "name": "stdout",
          "text": [
            "Question 1: Reverse the string 'Python Programming'\n",
            "gnimmargorP nohtyP\n"
          ]
        }
      ]
    },
    {
      "cell_type": "code",
      "source": [
        "# Question 2: Check if \"racecar\" is a palindrome\n",
        "word = \"racecar\"\n",
        "if word == word[::-1]:\n",
        "    print(f\"'{word}' is a palindrome.\")\n",
        "else:\n",
        "    print(f\"'{word}' is not a palindrome.\")\n",
        "\n"
      ],
      "metadata": {
        "colab": {
          "base_uri": "https://localhost:8080/"
        },
        "id": "mteZBwZJAjSB",
        "outputId": "c7497098-6af6-4eb6-e67c-590a04745ee6"
      },
      "execution_count": null,
      "outputs": [
        {
          "output_type": "stream",
          "name": "stdout",
          "text": [
            "'racecar' is a palindrome.\n"
          ]
        }
      ]
    },
    {
      "cell_type": "code",
      "source": [
        "# Question 3: Count the number of words in \"Python is a great programming language\"\n",
        "text = \"Python is a great programming language\"\n",
        "words = text.split()\n",
        "count = len(words)\n",
        "print(count)\n"
      ],
      "metadata": {
        "colab": {
          "base_uri": "https://localhost:8080/"
        },
        "id": "YdJ9hv7NAjU8",
        "outputId": "8627f39d-e6ee-4748-a77c-e508d952ed2e"
      },
      "execution_count": null,
      "outputs": [
        {
          "output_type": "stream",
          "name": "stdout",
          "text": [
            "6\n"
          ]
        }
      ]
    },
    {
      "cell_type": "code",
      "source": [
        "# Question 4: Convert \"hello world\" to title case\n",
        "text=\"hello world\"\n",
        "titletext=text.title()\n",
        "print(titletext)\n",
        "\n",
        "\n"
      ],
      "metadata": {
        "colab": {
          "base_uri": "https://localhost:8080/"
        },
        "id": "t_-dN5DFAjX1",
        "outputId": "3de7f259-6fd2-4ebe-e0c6-3fad036c9c17"
      },
      "execution_count": null,
      "outputs": [
        {
          "output_type": "stream",
          "name": "stdout",
          "text": [
            "Hello World\n"
          ]
        }
      ]
    },
    {
      "cell_type": "code",
      "source": [
        "# Question 5: Find the length of string \"Data Science\"\n",
        "text = \"Data Science\"\n",
        "length = len(text)\n",
        "print(f\"Length of the string: {length}\")\n",
        "\n"
      ],
      "metadata": {
        "colab": {
          "base_uri": "https://localhost:8080/"
        },
        "id": "u5iBiTsAAjax",
        "outputId": "8008b016-960e-4bb3-f490-ffbea98c68d3"
      },
      "execution_count": null,
      "outputs": [
        {
          "output_type": "stream",
          "name": "stdout",
          "text": [
            "Length of the string: 12\n"
          ]
        }
      ]
    },
    {
      "cell_type": "code",
      "source": [
        "# Question 6: Replace all spaces with underscores in \"Machine Learning\"\n",
        "text=\"Machine Learning\"\n",
        "newtext=text.replace(\" \" ,\"_\")\n",
        "print(newtext)\n"
      ],
      "metadata": {
        "colab": {
          "base_uri": "https://localhost:8080/"
        },
        "id": "ooi4EdXAAjiW",
        "outputId": "a923a07b-3fa1-4aeb-b436-dc66d868a104"
      },
      "execution_count": null,
      "outputs": [
        {
          "output_type": "stream",
          "name": "stdout",
          "text": [
            "Machine_Learning\n"
          ]
        }
      ]
    },
    {
      "cell_type": "code",
      "source": [
        "# Question 7: text = \"Python Programming Language\"\n",
        "text = \"Python Programming Language\"\n",
        "word = \"python\"\n",
        "\n",
        "if word.lower() in text.lower():\n",
        "    print(f\"'{word}' is found in the text.\")\n",
        "else:\n",
        "    print(f\"'{word}' is not found in the text.\")\n",
        "\n"
      ],
      "metadata": {
        "colab": {
          "base_uri": "https://localhost:8080/"
        },
        "id": "W9vwogZHAjlM",
        "outputId": "d39f0732-bbc5-4584-f281-f6042a430f5e"
      },
      "execution_count": null,
      "outputs": [
        {
          "output_type": "stream",
          "name": "stdout",
          "text": [
            "'python' is found in the text.\n"
          ]
        }
      ]
    },
    {
      "cell_type": "code",
      "source": [
        "# Question 8: Extract the first 5 characters from \"Artificial Intelligence\"\n",
        "text = \"Artificial Intelligence\"\n",
        "firstfive = text[:5]\n",
        "print(f\"First 5 characters: {firstfive}\")\n",
        "\n"
      ],
      "metadata": {
        "colab": {
          "base_uri": "https://localhost:8080/"
        },
        "id": "kn09BABhX8d0",
        "outputId": "cff8882f-6c4a-4b39-d04d-26e6040bb143"
      },
      "execution_count": null,
      "outputs": [
        {
          "output_type": "stream",
          "name": "stdout",
          "text": [
            "First 5 characters: Artif\n"
          ]
        }
      ]
    },
    {
      "cell_type": "code",
      "source": [
        "# Question 9: Convert \"UPPERCASE\" to lowercase\n",
        "text= \"UPPERCASE\"\n",
        "newtext=text.lower()\n",
        "print(newtext)\n"
      ],
      "metadata": {
        "colab": {
          "base_uri": "https://localhost:8080/"
        },
        "id": "jh2wd2q5YalU",
        "outputId": "1891edd2-9996-421c-880e-767ef1f1f6d7"
      },
      "execution_count": null,
      "outputs": [
        {
          "output_type": "stream",
          "name": "stdout",
          "text": [
            "uppercase\n"
          ]
        }
      ]
    },
    {
      "cell_type": "code",
      "source": [
        "# Question 10: Remove all vowels from \"Computer Science\"\n",
        "vowels=\"aeiouAEIOU\"\n",
        "text=\"Computer Science\"\n",
        "finaltext=\"\"\n",
        "for i in text:\n",
        "  if i not in vowels:\n",
        "    finaltext=finaltext+i\n",
        "print(finaltext)\n",
        "\n",
        "\n",
        "\n"
      ],
      "metadata": {
        "colab": {
          "base_uri": "https://localhost:8080/"
        },
        "id": "GNYnt6dLYtlE",
        "outputId": "1e82fc38-bdb1-40ca-f569-2ba3c4299ed4"
      },
      "execution_count": null,
      "outputs": [
        {
          "output_type": "stream",
          "name": "stdout",
          "text": [
            "Cmptr Scnc\n"
          ]
        }
      ]
    },
    {
      "cell_type": "code",
      "source": [
        "#OR\n",
        "from collections import Counter\n",
        "\n",
        "text = \"mississippi\"\n",
        "counter = Counter(text)\n",
        "print(counter)\n",
        "most_common_char, frequency = counter.most_common(1)[0 ]\n",
        "\n",
        "print(f\"max char: {most_common_char} and max count: {frequency}\")"
      ],
      "metadata": {
        "colab": {
          "base_uri": "https://localhost:8080/"
        },
        "id": "DahVIYiOYD6q",
        "outputId": "012868cc-82a4-4d76-c355-8c36844e47bf"
      },
      "execution_count": null,
      "outputs": [
        {
          "output_type": "stream",
          "name": "stdout",
          "text": [
            "Counter({'i': 4, 's': 4, 'p': 2, 'm': 1})\n",
            "max char: i and max count: 4\n"
          ]
        }
      ]
    },
    {
      "cell_type": "code",
      "source": [
        "# Question 11: Find the most frequent character in \"mississippi\"\n",
        "text = \"mississippi\"\n",
        "frequency = {}\n",
        "\n",
        "# Count the frequency of each character\n",
        "for char in text:\n",
        "    if char in frequency:\n",
        "        frequency[char] += 1\n",
        "    else:\n",
        "        frequency[char] = 1\n",
        "\n",
        "#print(frequency)\n",
        "#print(frequency.items())\n",
        "max_char=\"\"\n",
        "max_count=0\n",
        "for i,j in frequency.items():\n",
        "  if j>max_count:\n",
        "    max_count=j\n",
        "    max_char=i\n",
        "print(f\"max char:{max_char} and max count:{max_count}\")\n",
        "\n",
        "\n",
        "\n",
        "\n",
        "\n"
      ],
      "metadata": {
        "colab": {
          "base_uri": "https://localhost:8080/"
        },
        "id": "F-4At21ZZFot",
        "outputId": "e958bfad-1164-4879-824d-791417c2b978"
      },
      "execution_count": null,
      "outputs": [
        {
          "output_type": "stream",
          "name": "stdout",
          "text": [
            "max char:i and max count:4\n"
          ]
        }
      ]
    },
    {
      "cell_type": "code",
      "source": [
        "# Question 12: Check if two strings are anagrams: \"listen\" and \"silent\"\n",
        "def are_anagrams(str1, str2):\n",
        "    return sorted(str1) == sorted(str2)\n",
        "\n",
        "print(are_anagrams(\"listen\", \"silent\"))\n",
        "\n"
      ],
      "metadata": {
        "id": "amenJX_0maMR"
      },
      "execution_count": null,
      "outputs": []
    },
    {
      "cell_type": "code",
      "source": [
        "# Question 13: Capitalize first letter of each word in \"python programming language\"\n",
        "print(\"\\nQuestion 13: Capitalize first letter of each word in 'python programming language'\")\n",
        "text=\"python programming language\"\n",
        "newtext=text.title()\n",
        "print(newtext)\n"
      ],
      "metadata": {
        "id": "pwwwjvjMxb2R",
        "colab": {
          "base_uri": "https://localhost:8080/"
        },
        "outputId": "0fdf51b8-a7f0-448f-846e-e4b72771e1ea"
      },
      "execution_count": null,
      "outputs": [
        {
          "output_type": "stream",
          "name": "stdout",
          "text": [
            "\n",
            "Question 13: Capitalize first letter of each word in 'python programming language'\n",
            "Python Programming Language\n"
          ]
        }
      ]
    },
    {
      "cell_type": "code",
      "source": [
        "# Question 14: Count consonants in \"Hello World\"\n",
        "print(\"\\nQuestion 14: Count consonants in 'Hello World'\")\n",
        "vowels=\"aeiouAEIOU\"\n",
        "count=0\n",
        "text=\"Hello World\"\n",
        "for i in text:\n",
        "  if i not in vowels and i.isalpha():\n",
        "    count=count+1\n",
        "print(count)\n",
        "\n"
      ],
      "metadata": {
        "id": "3VxPJuKnD0DJ",
        "colab": {
          "base_uri": "https://localhost:8080/"
        },
        "outputId": "01c30fb9-2003-4715-b067-2a50ae78f527"
      },
      "execution_count": 2,
      "outputs": [
        {
          "output_type": "stream",
          "name": "stdout",
          "text": [
            "\n",
            "Question 14: Count consonants in 'Hello World'\n",
            "7\n"
          ]
        }
      ]
    },
    {
      "cell_type": "code",
      "source": [
        "# Question 15: Find the longest word in \"Python is a programming language\"\n",
        "text=\"Python is a programming language\"\n",
        "words=text.split()\n",
        "print (words)\n",
        "\n",
        "print(max(words))\n",
        "\n"
      ],
      "metadata": {
        "id": "V5h2ry61D0GX",
        "colab": {
          "base_uri": "https://localhost:8080/"
        },
        "outputId": "66baa785-5ec2-45db-f432-550955852ea6"
      },
      "execution_count": 5,
      "outputs": [
        {
          "output_type": "stream",
          "name": "stdout",
          "text": [
            "['Python', 'is', 'a', 'programming', 'language']\n",
            "programming\n"
          ]
        }
      ]
    },
    {
      "cell_type": "code",
      "source": [
        "# Question 16: Remove all punctuation from \"Hello, World! How are you?\"\n",
        "print(\"\\nQuestion 16: Remove all punctuation from 'Hello, World! How are you?'\")\n",
        "# Your code here\n",
        "\n"
      ],
      "metadata": {
        "id": "puXe0J3uD0Jx"
      },
      "execution_count": null,
      "outputs": []
    },
    {
      "cell_type": "code",
      "source": [
        "# Question 17: Check if string starts with \"Python\"\n",
        "text = \"Python is a programming language\"\n",
        "\n",
        "if text.startswith(\"Python\"):\n",
        "    print(\"The string starts with 'Python'\")\n",
        "else:\n",
        "    print(\"The string does not start with 'Python'\")\n",
        "\n"
      ],
      "metadata": {
        "id": "2IgjOCMiD0NL",
        "colab": {
          "base_uri": "https://localhost:8080/"
        },
        "outputId": "3d13dc51-2e59-4f4a-a459-523023604d7e"
      },
      "execution_count": 6,
      "outputs": [
        {
          "output_type": "stream",
          "name": "stdout",
          "text": [
            "The string starts with 'Python'\n"
          ]
        }
      ]
    },
    {
      "cell_type": "code",
      "source": [
        "# Question 18: Find the index of first occurrence of 'o' in \"Hello World\"\n",
        "print(\"\\nQuestion 18: Find the index of first occurrence of 'o' in 'Hello World'\")\n",
        "# Your code here\n",
        "\n",
        "# Question 19: Split string \"apple,banana,orange\" by comma\n",
        "print(\"\\nQuestion 19: Split string 'apple,banana,orange' by comma\")\n",
        "# Your code here\n",
        "\n",
        "# Question 20: Join list ['Python', 'is', 'awesome'] with spaces\n",
        "print(\"\\nQuestion 20: Join list ['Python', 'is', 'awesome'] with spaces\")\n",
        "# Your code here\n",
        "\n",
        "# Question 21: Check if string contains only digits: \"12345\"\n",
        "print(\"\\nQuestion 21: Check if string contains only digits: '12345'\")\n",
        "# Your code here\n",
        "\n",
        "# Question 22: Check if string contains only letters: \"HelloWorld\"\n",
        "print(\"\\nQuestion 22: Check if string contains only letters: 'HelloWorld'\")\n",
        "# Your code here\n",
        "\n",
        "# Question 23: Convert \"hello world\" to \"hElLo WoRlD\" (alternating case)\n",
        "print(\"\\nQuestion 23: Convert 'hello world' to 'hElLo WoRlD' (alternating case)\")\n",
        "# Your code here\n",
        "\n",
        "# Question 24: Find all positions of 'a' in \"banana\"\n",
        "print(\"\\nQuestion 24: Find all positions of 'a' in 'banana'\")\n",
        "# Your code here\n",
        "\n",
        "# Question 25: Remove leading and trailing whitespace from \"  Hello World  \"\n",
        "print(\"\\nQuestion 25: Remove leading and trailing whitespace from '  Hello World  '\")\n",
        "# Your code here\n",
        "\n",
        "# Question 26: Check if string ends with \"ing\": \"programming\"\n",
        "print(\"\\nQuestion 26: Check if string ends with 'ing': 'programming'\")\n",
        "# Your code here\n",
        "\n",
        "# Question 27: Replace first occurrence of 'o' with '0' in \"Hello World\"\n",
        "print(\"\\nQuestion 27: Replace first occurrence of 'o' with '0' in 'Hello World'\")\n",
        "# Your code here\n",
        "\n",
        "# Question 28: Find the shortest word in \"Python is a programming language\"\n",
        "print(\"\\nQuestion 28: Find the shortest word in 'Python is a programming language'\")\n",
        "# Your code here\n",
        "\n",
        "# Question 29: Count words that start with 'p' in \"Python programming is powerful\"\n",
        "print(\"\\nQuestion 29: Count words that start with 'p' in 'Python programming is powerful'\")\n",
        "# Your code here\n",
        "\n",
        "# Question 30: Reverse words in \"Hello World Python\"\n",
        "print(\"\\nQuestion 30: Reverse words in 'Hello World Python'\")\n",
        "# Your code here\n",
        "\n",
        "# Question 31: Check if string is a valid email format: \"user@example.com\"\n",
        "print(\"\\nQuestion 31: Check if string is a valid email format: 'user@example.com'\")\n",
        "# Your code here\n",
        "\n",
        "# Question 32: Extract domain from \"https://www.example.com/path\"\n",
        "print(\"\\nQuestion 32: Extract domain from 'https://www.example.com/path'\")\n",
        "# Your code here\n",
        "\n",
        "# Question 33: Count lines in multi-line string\n",
        "print(\"\\nQuestion 33: Count lines in multi-line string\")\n",
        "# Your code here\n",
        "\n",
        "# Question 34: Find common characters between \"hello\" and \"world\"\n",
        "print(\"\\nQuestion 34: Find common characters between 'hello' and 'world'\")\n",
        "# Your code here\n",
        "\n",
        "# Question 35: Check if string is a valid phone number: \"+1-555-123-4567\"\n",
        "print(\"\\nQuestion 35: Check if string is a valid phone number: '+1-555-123-4567'\")\n",
        "# Your code here\n",
        "\n",
        "# Question 36: Extract numbers from \"abc123def456ghi789\"\n",
        "print(\"\\nQuestion 36: Extract numbers from 'abc123def456ghi789'\")\n",
        "# Your code here\n",
        "\n",
        "# Question 37: Convert \"snake_case\" to \"camelCase\"\n",
        "print(\"\\nQuestion 37: Convert 'snake_case' to 'camelCase'\")\n",
        "# Your code here\n",
        "\n",
        "# Question 38: Check if string is a valid palindrome ignoring case: \"A man a plan a canal Panama\"\n",
        "print(\"\\nQuestion 38: Check if string is a valid palindrome ignoring case: 'A man a plan a canal Panama'\")\n",
        "# Your code here\n",
        "\n",
        "# Question 39: Find the most common word in \"the quick brown fox jumps over the lazy dog\"\n",
        "print(\"\\nQuestion 39: Find the most common word in 'the quick brown fox jumps over the lazy dog'\")\n",
        "# Your code here\n",
        "\n",
        "# Question 40: Generate acronym from \"National Aeronautics and Space Administration\"\n",
        "print(\"\\nQuestion 40: Generate acronym from 'National Aeronautics and Space Administration'\")\n",
        "# Your code here\n",
        "\n",
        "# Question 41: Check if string contains balanced parentheses: \"((()))\"\n",
        "print(\"\\nQuestion 41: Check if string contains balanced parentheses: '((()))'\")\n",
        "# Your code here\n",
        "\n",
        "# Question 42: Convert \"hello world\" to Morse code\n",
        "print(\"\\nQuestion 42: Convert 'hello world' to Morse code\")\n",
        "# Your code here\n",
        "\n",
        "# Question 43: Find the longest common substring between \"programming\" and \"grammar\"\n",
        "print(\"\\nQuestion 43: Find the longest common substring between 'programming' and 'grammar'\")\n",
        "# Your code here\n",
        "\n",
        "# Question 44: Check if string is a valid URL: \"https://www.google.com\"\n",
        "print(\"\\nQuestion 44: Check if string is a valid URL: 'https://www.google.com'\")\n",
        "# Your code here\n",
        "\n",
        "# Question 45: Extract all words with length > 5 from \"Python programming is amazing and powerful\"\n",
        "print(\"\\nQuestion 45: Extract all words with length > 5 from 'Python programming is amazing and powerful'\")\n",
        "# Your code here\n",
        "\n",
        "# Question 46: Convert \"hello world\" to Pig Latin\n",
        "print(\"\\nQuestion 46: Convert 'hello world' to Pig Latin\")\n",
        "# Your code here\n",
        "\n",
        "# Question 47: Check if string is a valid IPv4 address: \"192.168.1.1\"\n",
        "print(\"\\nQuestion 47: Check if string is a valid IPv4 address: '192.168.1.1'\")\n",
        "# Your code here\n",
        "\n",
        "# Question 48: Find all substrings of \"abc\"\n",
        "print(\"\\nQuestion 48: Find all substrings of 'abc'\")\n",
        "# Your code here\n",
        "\n",
        "# Question 49: Convert \"hello world\" to ROT13 encoding\n",
        "print(\"\\nQuestion 49: Convert 'hello world' to ROT13 encoding\")\n",
        "# Your code here\n",
        "\n",
        "# Question 50: Check if string is a valid credit card number: \"4532015112830366\"\n",
        "print(\"\\nQuestion 50: Check if string is a valid credit card number: '4532015112830366'\")\n",
        "# Your code here"
      ],
      "metadata": {
        "id": "6b-n2RbnkuUj"
      },
      "execution_count": null,
      "outputs": []
    },
    {
      "cell_type": "code",
      "source": [],
      "metadata": {
        "id": "7ubfm7mFkuXy"
      },
      "execution_count": null,
      "outputs": []
    },
    {
      "cell_type": "code",
      "source": [],
      "metadata": {
        "id": "b_McqaHvkuby"
      },
      "execution_count": null,
      "outputs": []
    }
  ]
}