{
  "nbformat": 4,
  "nbformat_minor": 0,
  "metadata": {
    "colab": {
      "provenance": []
    },
    "kernelspec": {
      "name": "python3",
      "display_name": "Python 3"
    },
    "language_info": {
      "name": "python"
    }
  },
  "cells": [
    {
      "cell_type": "code",
      "execution_count": 1,
      "metadata": {
        "colab": {
          "base_uri": "https://localhost:8080/"
        },
        "id": "c2ytx4y6A4JQ",
        "outputId": "f4d6f453-7e68-40eb-8999-2751b5b0dd6a"
      },
      "outputs": [
        {
          "output_type": "stream",
          "name": "stdout",
          "text": [
            "Age is: 28, Type is: <class 'int'>\n"
          ]
        }
      ],
      "source": [
        "user_age = 28\n",
        "print(f\"Age is: {user_age}, Type is: {type(user_age)}\")"
      ]
    },
    {
      "cell_type": "code",
      "source": [
        "apples = 10\n",
        "oranges = 5\n",
        "total_fruit = apples + oranges\n",
        "print(f\"Total fruit: {total_fruit}\")"
      ],
      "metadata": {
        "colab": {
          "base_uri": "https://localhost:8080/"
        },
        "id": "-93Y0h5PCTfP",
        "outputId": "c913abde-b468-47d0-be1e-27f73faa0e25"
      },
      "execution_count": 2,
      "outputs": [
        {
          "output_type": "stream",
          "name": "stdout",
          "text": [
            "Total fruit: 15\n"
          ]
        }
      ]
    },
    {
      "cell_type": "code",
      "source": [
        "base = 2\n",
        "power = 8\n",
        "result = base ** power # 2 to the power of 8\n",
        "print(f\"2^8 is {result}\")"
      ],
      "metadata": {
        "colab": {
          "base_uri": "https://localhost:8080/"
        },
        "id": "Ik_42z-2CTiq",
        "outputId": "ca0402b5-b9bc-4528-c22b-5dd09602dc02"
      },
      "execution_count": 3,
      "outputs": [
        {
          "output_type": "stream",
          "name": "stdout",
          "text": [
            "2^8 is 256\n"
          ]
        }
      ]
    },
    {
      "cell_type": "code",
      "source": [
        "s1 = \"Hello World\"\n",
        "print(s1.lower())\n",
        "\n",
        "s2 = \"PYTHON IS FUN!\"\n",
        "print(s2.lower())"
      ],
      "metadata": {
        "colab": {
          "base_uri": "https://localhost:8080/"
        },
        "id": "lbsd2qpHCTmE",
        "outputId": "18704a52-a307-4e03-b3d1-448221c99471"
      },
      "execution_count": 4,
      "outputs": [
        {
          "output_type": "stream",
          "name": "stdout",
          "text": [
            "hello world\n",
            "python is fun!\n"
          ]
        }
      ]
    },
    {
      "cell_type": "code",
      "source": [
        "s1 = \"Hello World\"\n",
        "print(s1.upper())\n",
        "\n",
        "s2 = \"PYTHON IS FUN!\"\n",
        "print(s2.upper())"
      ],
      "metadata": {
        "colab": {
          "base_uri": "https://localhost:8080/"
        },
        "id": "51T-rDPfCTpu",
        "outputId": "04f3c5cc-ec8e-4045-904e-d61828aaf97e"
      },
      "execution_count": 5,
      "outputs": [
        {
          "output_type": "stream",
          "name": "stdout",
          "text": [
            "HELLO WORLD\n",
            "PYTHON IS FUN!\n"
          ]
        }
      ]
    },
    {
      "cell_type": "code",
      "source": [
        "s1 = \"Hello World\"\n",
        "print(s1.capitalize())\n",
        "\n",
        "s2 = \"PYTHON IS FUN!\"\n",
        "print(s2.capitalize())"
      ],
      "metadata": {
        "colab": {
          "base_uri": "https://localhost:8080/"
        },
        "id": "dgba-wXQCTtT",
        "outputId": "8e78c770-f7cf-4055-e56c-360855bf7084"
      },
      "execution_count": 6,
      "outputs": [
        {
          "output_type": "stream",
          "name": "stdout",
          "text": [
            "Hello world\n",
            "Python is fun!\n"
          ]
        }
      ]
    },
    {
      "cell_type": "code",
      "source": [
        "s1 = \"welcome to the jungle\"\n",
        "print(s1.title())\n",
        "s2 = \"o'reilly media\"\n",
        "print(s2.title())"
      ],
      "metadata": {
        "colab": {
          "base_uri": "https://localhost:8080/"
        },
        "id": "KHlhcrHUCTw_",
        "outputId": "bfbef79d-0251-4e17-c50d-a5600bf557c7"
      },
      "execution_count": 7,
      "outputs": [
        {
          "output_type": "stream",
          "name": "stdout",
          "text": [
            "Welcome To The Jungle\n",
            "O'Reilly Media\n"
          ]
        }
      ]
    },
    {
      "cell_type": "code",
      "source": [
        "x= \"data science\"\n",
        "print(x.upper())"
      ],
      "metadata": {
        "colab": {
          "base_uri": "https://localhost:8080/"
        },
        "id": "ILBRCK_WCT01",
        "outputId": "2c1de770-b4a0-4be3-f7cf-914c56b684e9"
      },
      "execution_count": 8,
      "outputs": [
        {
          "output_type": "stream",
          "name": "stdout",
          "text": [
            "DATA SCIENCE\n"
          ]
        }
      ]
    },
    {
      "cell_type": "code",
      "source": [
        "x= \"Data Science\"\n",
        "print(x.lower())"
      ],
      "metadata": {
        "colab": {
          "base_uri": "https://localhost:8080/"
        },
        "id": "YnxQvc3DCT4b",
        "outputId": "e55c1980-d51d-4f2b-b1b1-8055dc5b5c1c"
      },
      "execution_count": 9,
      "outputs": [
        {
          "output_type": "stream",
          "name": "stdout",
          "text": [
            "data science\n"
          ]
        }
      ]
    },
    {
      "cell_type": "code",
      "source": [
        "x= \"data science\"\n",
        "print(x.capitalize())"
      ],
      "metadata": {
        "colab": {
          "base_uri": "https://localhost:8080/"
        },
        "id": "37LRhj32CT73",
        "outputId": "35a31a40-2c31-47a5-ffb6-7dcbdfd139a3"
      },
      "execution_count": 10,
      "outputs": [
        {
          "output_type": "stream",
          "name": "stdout",
          "text": [
            "Data science\n"
          ]
        }
      ]
    },
    {
      "cell_type": "code",
      "source": [
        "x= \"data science\"\n",
        "print(x.title())"
      ],
      "metadata": {
        "colab": {
          "base_uri": "https://localhost:8080/"
        },
        "id": "D4O2JQQYGdZd",
        "outputId": "298bd3f9-02db-49d2-f1cd-51f6dcb0fdae"
      },
      "execution_count": 11,
      "outputs": [
        {
          "output_type": "stream",
          "name": "stdout",
          "text": [
            "Data Science\n"
          ]
        }
      ]
    },
    {
      "cell_type": "code",
      "source": [
        "x= \"data science\"\n",
        "print(x.swapcase())"
      ],
      "metadata": {
        "colab": {
          "base_uri": "https://localhost:8080/"
        },
        "id": "DSok1b6LGdcq",
        "outputId": "f64abddf-81ff-4cec-d6ba-39a50f9297a4"
      },
      "execution_count": 12,
      "outputs": [
        {
          "output_type": "stream",
          "name": "stdout",
          "text": [
            "DATA SCIENCE\n"
          ]
        }
      ]
    },
    {
      "cell_type": "code",
      "source": [
        "x= \"dAta sCience\"\n",
        "print(x.swapcase())"
      ],
      "metadata": {
        "colab": {
          "base_uri": "https://localhost:8080/"
        },
        "id": "l-FPyCqAGdf4",
        "outputId": "2a08ad9c-5de5-4ffd-c616-5f0993cd5cf9"
      },
      "execution_count": 13,
      "outputs": [
        {
          "output_type": "stream",
          "name": "stdout",
          "text": [
            "DaTA ScIENCE\n"
          ]
        }
      ]
    },
    {
      "cell_type": "code",
      "source": [
        "x= \"  data science  \"\n",
        "print(x.strip())"
      ],
      "metadata": {
        "colab": {
          "base_uri": "https://localhost:8080/"
        },
        "id": "aLJ9JO-AGdiy",
        "outputId": "355218b5-5aa3-42c2-8b31-66b5e97039c1"
      },
      "execution_count": 14,
      "outputs": [
        {
          "output_type": "stream",
          "name": "stdout",
          "text": [
            "data science\n"
          ]
        }
      ]
    },
    {
      "cell_type": "code",
      "source": [
        "x= \"\\n \\t data science \\n\"\n",
        "print(x.strip())"
      ],
      "metadata": {
        "colab": {
          "base_uri": "https://localhost:8080/"
        },
        "id": "AhaWgNG_Gdl7",
        "outputId": "f0b4e093-85a2-43ae-983a-1f2a63de77b2"
      },
      "execution_count": 15,
      "outputs": [
        {
          "output_type": "stream",
          "name": "stdout",
          "text": [
            "data science\n"
          ]
        }
      ]
    },
    {
      "cell_type": "code",
      "source": [
        "x= \"----data science----\"\n",
        "print(x.strip('-'))"
      ],
      "metadata": {
        "colab": {
          "base_uri": "https://localhost:8080/"
        },
        "id": "69-ezHhAGdok",
        "outputId": "22ae92d2-a1e4-4651-fd64-d542c1ceb703"
      },
      "execution_count": 16,
      "outputs": [
        {
          "output_type": "stream",
          "name": "stdout",
          "text": [
            "data science\n"
          ]
        }
      ]
    },
    {
      "cell_type": "code",
      "source": [
        "x= \"----data science=----\"\n",
        "print(x.strip('-'))"
      ],
      "metadata": {
        "colab": {
          "base_uri": "https://localhost:8080/"
        },
        "id": "cZLMvidnCT_R",
        "outputId": "5b6ef171-07e9-4ef0-bcdc-803cb5c33e4c"
      },
      "execution_count": 17,
      "outputs": [
        {
          "output_type": "stream",
          "name": "stdout",
          "text": [
            "data science=\n"
          ]
        }
      ]
    },
    {
      "cell_type": "code",
      "source": [
        "x= \"----data science----\"\n",
        "print(x.lstrip('-'))"
      ],
      "metadata": {
        "colab": {
          "base_uri": "https://localhost:8080/"
        },
        "id": "ohIjJKltG6Uf",
        "outputId": "bc719d73-f43f-4c1d-bff9-97dbbd4373e2"
      },
      "execution_count": 18,
      "outputs": [
        {
          "output_type": "stream",
          "name": "stdout",
          "text": [
            "data science----\n"
          ]
        }
      ]
    },
    {
      "cell_type": "code",
      "source": [
        "x= \"----data science=----\"\n",
        "print(x.rstrip('-'))"
      ],
      "metadata": {
        "colab": {
          "base_uri": "https://localhost:8080/"
        },
        "id": "u5F0W_L2G6Xb",
        "outputId": "4357682a-b0eb-481a-bcb9-885996978129"
      },
      "execution_count": 19,
      "outputs": [
        {
          "output_type": "stream",
          "name": "stdout",
          "text": [
            "----data science=\n"
          ]
        }
      ]
    },
    {
      "cell_type": "code",
      "source": [
        "x= \"----data science----\"\n",
        "print(x.center(10))"
      ],
      "metadata": {
        "colab": {
          "base_uri": "https://localhost:8080/"
        },
        "id": "HmPlvF80G6af",
        "outputId": "8d07d044-fc23-45ad-b920-eda2adcaa19f"
      },
      "execution_count": 20,
      "outputs": [
        {
          "output_type": "stream",
          "name": "stdout",
          "text": [
            "----data science----\n"
          ]
        }
      ]
    },
    {
      "cell_type": "code",
      "source": [
        "x= \"data science\"\n",
        "print(x.ljust(20,'-'))"
      ],
      "metadata": {
        "colab": {
          "base_uri": "https://localhost:8080/"
        },
        "id": "tUYonG5zG6de",
        "outputId": "ca4adfea-9da0-4e22-e49d-abc90cd442d2"
      },
      "execution_count": 21,
      "outputs": [
        {
          "output_type": "stream",
          "name": "stdout",
          "text": [
            "data science--------\n"
          ]
        }
      ]
    },
    {
      "cell_type": "code",
      "source": [
        "x= \"data science\"\n",
        "print(x.rjust(20,'-'))"
      ],
      "metadata": {
        "colab": {
          "base_uri": "https://localhost:8080/"
        },
        "id": "e5op_WRSG6gu",
        "outputId": "9e9f9b99-4564-487c-bce2-95b31149a625"
      },
      "execution_count": 22,
      "outputs": [
        {
          "output_type": "stream",
          "name": "stdout",
          "text": [
            "--------data science\n"
          ]
        }
      ]
    },
    {
      "cell_type": "code",
      "source": [
        "x=\"2112\"\n",
        "print(x.zfill(5))"
      ],
      "metadata": {
        "colab": {
          "base_uri": "https://localhost:8080/"
        },
        "id": "EUqRtDZgHSHN",
        "outputId": "b256ac48-7e95-479e-b156-4d1f5dc3789d"
      },
      "execution_count": 23,
      "outputs": [
        {
          "output_type": "stream",
          "name": "stdout",
          "text": [
            "02112\n"
          ]
        }
      ]
    },
    {
      "cell_type": "code",
      "source": [
        "x=\"-2112\"\n",
        "print(x.zfill(6))"
      ],
      "metadata": {
        "colab": {
          "base_uri": "https://localhost:8080/"
        },
        "id": "ALBVFhxVHSLO",
        "outputId": "b51d885e-9bc7-4f49-f798-8e35ee53374d"
      },
      "execution_count": 24,
      "outputs": [
        {
          "output_type": "stream",
          "name": "stdout",
          "text": [
            "-02112\n"
          ]
        }
      ]
    },
    {
      "cell_type": "code",
      "source": [
        "x=\"data science, data engineering\"\n",
        "print(x.find(\"data\"))"
      ],
      "metadata": {
        "colab": {
          "base_uri": "https://localhost:8080/"
        },
        "id": "HaSWm3YdHSPJ",
        "outputId": "67d301f8-b425-49e5-b811-7d7900a128bd"
      },
      "execution_count": 25,
      "outputs": [
        {
          "output_type": "stream",
          "name": "stdout",
          "text": [
            "0\n"
          ]
        }
      ]
    },
    {
      "cell_type": "code",
      "source": [
        "x=\"data science, data engineering\"\n",
        "print(x.find(\",\"))"
      ],
      "metadata": {
        "colab": {
          "base_uri": "https://localhost:8080/"
        },
        "id": "pRWWSk83HSTB",
        "outputId": "69ac4d79-7207-4e06-f1a4-dee2fa19edc8"
      },
      "execution_count": 26,
      "outputs": [
        {
          "output_type": "stream",
          "name": "stdout",
          "text": [
            "12\n"
          ]
        }
      ]
    },
    {
      "cell_type": "code",
      "source": [
        "x=\"data science , data engineering\"\n",
        "print(x.find(\",\"))"
      ],
      "metadata": {
        "colab": {
          "base_uri": "https://localhost:8080/"
        },
        "id": "aFZadFAyHSci",
        "outputId": "588860ae-8fe3-4157-d1f8-1a32471a061d"
      },
      "execution_count": 27,
      "outputs": [
        {
          "output_type": "stream",
          "name": "stdout",
          "text": [
            "13\n"
          ]
        }
      ]
    },
    {
      "cell_type": "code",
      "source": [
        "x=\"data science, data engineering\"\n",
        "print(x.find(\"tej\"))"
      ],
      "metadata": {
        "colab": {
          "base_uri": "https://localhost:8080/"
        },
        "id": "S-pJ_T1DHhL-",
        "outputId": "433d752d-772e-4e5e-e519-2ecdec05b103"
      },
      "execution_count": 28,
      "outputs": [
        {
          "output_type": "stream",
          "name": "stdout",
          "text": [
            "-1\n"
          ]
        }
      ]
    },
    {
      "cell_type": "code",
      "source": [
        "x=\"data science, data engineering\"\n",
        "print(x.find(\"data\"))"
      ],
      "metadata": {
        "colab": {
          "base_uri": "https://localhost:8080/"
        },
        "id": "AFt-GllOHhPK",
        "outputId": "7ffe3055-3897-4ba3-9040-83fae258d72e"
      },
      "execution_count": 29,
      "outputs": [
        {
          "output_type": "stream",
          "name": "stdout",
          "text": [
            "0\n"
          ]
        }
      ]
    },
    {
      "cell_type": "code",
      "source": [
        "x=\"data science, data engineering\"\n",
        "print(x.index(\"science\"))"
      ],
      "metadata": {
        "colab": {
          "base_uri": "https://localhost:8080/"
        },
        "id": "1ZM_lX_dHhSc",
        "outputId": "7a0a3702-9333-4102-eb8a-82e3d4c71b1f"
      },
      "execution_count": 30,
      "outputs": [
        {
          "output_type": "stream",
          "name": "stdout",
          "text": [
            "5\n"
          ]
        }
      ]
    },
    {
      "cell_type": "code",
      "source": [
        "x=\"data science, data engineering\"\n",
        "print(x.find(\",\"))"
      ],
      "metadata": {
        "colab": {
          "base_uri": "https://localhost:8080/"
        },
        "id": "lIJJMGokHhV6",
        "outputId": "899a661f-bab9-4a6e-946e-c834953efa66"
      },
      "execution_count": 31,
      "outputs": [
        {
          "output_type": "stream",
          "name": "stdout",
          "text": [
            "12\n"
          ]
        }
      ]
    },
    {
      "cell_type": "code",
      "source": [
        "x=\"data science, data engineering\"\n",
        "print(x.count(\"data\"))"
      ],
      "metadata": {
        "colab": {
          "base_uri": "https://localhost:8080/"
        },
        "id": "ZJ_ICFa_HhZO",
        "outputId": "3fbf38de-8874-41aa-b5b8-b33807a08d9a"
      },
      "execution_count": 32,
      "outputs": [
        {
          "output_type": "stream",
          "name": "stdout",
          "text": [
            "2\n"
          ]
        }
      ]
    },
    {
      "cell_type": "code",
      "source": [
        "x=\"data science, data engineering\"\n",
        "print(x.count(\"e\"))"
      ],
      "metadata": {
        "colab": {
          "base_uri": "https://localhost:8080/"
        },
        "id": "kN6p8eaJICxK",
        "outputId": "ea351dcc-27b7-4572-a6a1-13bf0c244dcb"
      },
      "execution_count": 33,
      "outputs": [
        {
          "output_type": "stream",
          "name": "stdout",
          "text": [
            "5\n"
          ]
        }
      ]
    },
    {
      "cell_type": "code",
      "source": [
        "x=\"data science, data engineering\"\n",
        "print(x.split())"
      ],
      "metadata": {
        "colab": {
          "base_uri": "https://localhost:8080/"
        },
        "id": "7qBkNSIaIC0O",
        "outputId": "fb4daafe-5c86-4c42-f4f6-0604dd0fbea4"
      },
      "execution_count": 34,
      "outputs": [
        {
          "output_type": "stream",
          "name": "stdout",
          "text": [
            "['data', 'science,', 'data', 'engineering']\n"
          ]
        }
      ]
    },
    {
      "cell_type": "code",
      "source": [
        "x=\"data science , data engineering\"\n",
        "print(x.split(\"e\"))"
      ],
      "metadata": {
        "colab": {
          "base_uri": "https://localhost:8080/"
        },
        "id": "8RqGGfVZIC6n",
        "outputId": "45b486d4-5368-425b-e9dd-7d92c2106115"
      },
      "execution_count": 35,
      "outputs": [
        {
          "output_type": "stream",
          "name": "stdout",
          "text": [
            "['data sci', 'nc', ' , data ', 'ngin', '', 'ring']\n"
          ]
        }
      ]
    },
    {
      "cell_type": "code",
      "source": [
        "x=['data wgdygddhbd', 'science 3gyegywqd76e7', 'data engineering']\n",
        "print(\" \".join(x))"
      ],
      "metadata": {
        "colab": {
          "base_uri": "https://localhost:8080/"
        },
        "id": "W8hKM6sxIJIr",
        "outputId": "b7b8de19-edc1-4b04-a533-c823ca944c18"
      },
      "execution_count": 36,
      "outputs": [
        {
          "output_type": "stream",
          "name": "stdout",
          "text": [
            "data wgdygddhbd science 3gyegywqd76e7 data engineering\n"
          ]
        }
      ]
    },
    {
      "cell_type": "code",
      "source": [
        "x=\"data science, data engineering\"\n",
        "print(x.isupper())"
      ],
      "metadata": {
        "colab": {
          "base_uri": "https://localhost:8080/"
        },
        "id": "6NpYu7UDIJL0",
        "outputId": "a25dd43d-fc60-45f1-ff75-1432b15692cf"
      },
      "execution_count": 37,
      "outputs": [
        {
          "output_type": "stream",
          "name": "stdout",
          "text": [
            "False\n"
          ]
        }
      ]
    },
    {
      "cell_type": "code",
      "source": [
        "x=\"123\"\n",
        "print(x.isalpha())"
      ],
      "metadata": {
        "colab": {
          "base_uri": "https://localhost:8080/"
        },
        "id": "BnM7JwrdIJO5",
        "outputId": "3ac73f0c-f647-4cf3-dc16-7fc4d631bd3c"
      },
      "execution_count": 38,
      "outputs": [
        {
          "output_type": "stream",
          "name": "stdout",
          "text": [
            "False\n"
          ]
        }
      ]
    },
    {
      "cell_type": "code",
      "source": [
        "x=\"0.54\"\n",
        "print(x.isdecimal())"
      ],
      "metadata": {
        "colab": {
          "base_uri": "https://localhost:8080/"
        },
        "id": "1mAr2h6JIPoz",
        "outputId": "139a9308-d6d7-491b-aa66-d766e7eba11c"
      },
      "execution_count": 39,
      "outputs": [
        {
          "output_type": "stream",
          "name": "stdout",
          "text": [
            "False\n"
          ]
        }
      ]
    },
    {
      "cell_type": "code",
      "source": [
        "x=\"1234\"\n",
        "print(x.isdigit())"
      ],
      "metadata": {
        "colab": {
          "base_uri": "https://localhost:8080/"
        },
        "id": "7qXUEgiiIPr9",
        "outputId": "bbf60b2a-3a66-4755-a9cf-fc1fcad43725"
      },
      "execution_count": 40,
      "outputs": [
        {
          "output_type": "stream",
          "name": "stdout",
          "text": [
            "True\n"
          ]
        }
      ]
    },
    {
      "cell_type": "code",
      "source": [
        "x=\"1234.54\"\n",
        "print(x.isdigit())"
      ],
      "metadata": {
        "colab": {
          "base_uri": "https://localhost:8080/"
        },
        "id": "MDwtHUlRIPu_",
        "outputId": "a9569f8e-c614-4dc4-b6f9-02b753581ac8"
      },
      "execution_count": 41,
      "outputs": [
        {
          "output_type": "stream",
          "name": "stdout",
          "text": [
            "False\n"
          ]
        }
      ]
    },
    {
      "cell_type": "code",
      "source": [
        "x=\"tej1234\"\n",
        "print(x.isalnum())"
      ],
      "metadata": {
        "colab": {
          "base_uri": "https://localhost:8080/"
        },
        "id": "7N_Zo8diIPx-",
        "outputId": "baf17cba-0434-4e25-ff61-347316ceb331"
      },
      "execution_count": 42,
      "outputs": [
        {
          "output_type": "stream",
          "name": "stdout",
          "text": [
            "True\n"
          ]
        }
      ]
    },
    {
      "cell_type": "code",
      "source": [
        "x=\"tej\"\n",
        "print(x.isalnum())"
      ],
      "metadata": {
        "colab": {
          "base_uri": "https://localhost:8080/"
        },
        "id": "GudvI16nIP1G",
        "outputId": "43db4b58-3710-41cc-95a6-2cf419a60f5b"
      },
      "execution_count": 43,
      "outputs": [
        {
          "output_type": "stream",
          "name": "stdout",
          "text": [
            "True\n"
          ]
        }
      ]
    },
    {
      "cell_type": "code",
      "source": [
        "x=\"  \"\n",
        "print(x.isspace())"
      ],
      "metadata": {
        "colab": {
          "base_uri": "https://localhost:8080/"
        },
        "id": "_cFiuImvIP37",
        "outputId": "74d60736-3c7f-4b85-8563-80ee3b732602"
      },
      "execution_count": 44,
      "outputs": [
        {
          "output_type": "stream",
          "name": "stdout",
          "text": [
            "True\n"
          ]
        }
      ]
    },
    {
      "cell_type": "code",
      "source": [
        "x=\"data\"\n",
        "print(x.split('a'))"
      ],
      "metadata": {
        "colab": {
          "base_uri": "https://localhost:8080/"
        },
        "id": "_bIQNA9eIP6z",
        "outputId": "a08fbb55-9139-4ee0-e9a5-8eccfc55fc5f"
      },
      "execution_count": 45,
      "outputs": [
        {
          "output_type": "stream",
          "name": "stdout",
          "text": [
            "['d', 't', '']\n"
          ]
        }
      ]
    },
    {
      "cell_type": "code",
      "source": [
        "x=\"data\"\n",
        "print(x.split('t'))"
      ],
      "metadata": {
        "colab": {
          "base_uri": "https://localhost:8080/"
        },
        "id": "l5x8LmI0IP9m",
        "outputId": "997979ec-7731-4edd-c0c6-2405ebf92be5"
      },
      "execution_count": 46,
      "outputs": [
        {
          "output_type": "stream",
          "name": "stdout",
          "text": [
            "['da', 'a']\n"
          ]
        }
      ]
    },
    {
      "cell_type": "code",
      "source": [
        "x=\"data\"\n",
        "print(x.split('d'))"
      ],
      "metadata": {
        "colab": {
          "base_uri": "https://localhost:8080/"
        },
        "id": "q9CH8HV7IJSE",
        "outputId": "724ad226-b50d-4efa-dde0-22117359f420"
      },
      "execution_count": 47,
      "outputs": [
        {
          "output_type": "stream",
          "name": "stdout",
          "text": [
            "['', 'ata']\n"
          ]
        }
      ]
    },
    {
      "cell_type": "code",
      "source": [
        "x=\"data \\t  science\"\n",
        "print(x.expandtabs())"
      ],
      "metadata": {
        "colab": {
          "base_uri": "https://localhost:8080/"
        },
        "id": "xnaDBO5eIcjx",
        "outputId": "f756defb-dcd2-465c-8dc9-7e8b3822c5a0"
      },
      "execution_count": 48,
      "outputs": [
        {
          "output_type": "stream",
          "name": "stdout",
          "text": [
            "data      science\n"
          ]
        }
      ]
    },
    {
      "cell_type": "code",
      "source": [
        "x=\"data \\t science\"\n",
        "print(x.expandtabs(30))"
      ],
      "metadata": {
        "colab": {
          "base_uri": "https://localhost:8080/"
        },
        "id": "n62Ql6ABIcmx",
        "outputId": "cba68e95-e3b7-428e-ebe3-ba000d0aef41"
      },
      "execution_count": 49,
      "outputs": [
        {
          "output_type": "stream",
          "name": "stdout",
          "text": [
            "data                           science\n"
          ]
        }
      ]
    },
    {
      "cell_type": "code",
      "source": [],
      "metadata": {
        "id": "ALr5zKhjIcqV"
      },
      "execution_count": null,
      "outputs": []
    },
    {
      "cell_type": "code",
      "source": [],
      "metadata": {
        "id": "HuazPw-IIcs-"
      },
      "execution_count": null,
      "outputs": []
    }
  ]
}