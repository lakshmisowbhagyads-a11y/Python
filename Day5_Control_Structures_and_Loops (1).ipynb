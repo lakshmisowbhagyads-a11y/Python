{
  "nbformat": 4,
  "nbformat_minor": 0,
  "metadata": {
    "colab": {
      "provenance": []
    },
    "kernelspec": {
      "name": "python3",
      "display_name": "Python 3"
    },
    "language_info": {
      "name": "python"
    }
  },
  "cells": [
    {
      "cell_type": "code",
      "execution_count": null,
      "metadata": {
        "id": "lBybYWRvt_OG"
      },
      "outputs": [],
      "source": [
        "# if\n",
        "# if else\n",
        "# if elif else\n",
        "# for\n",
        "# while\n",
        "# continue\n",
        "# break"
      ]
    },
    {
      "cell_type": "code",
      "source": [
        "x=10\n",
        "if x>5:\n",
        "  print(\"test\")\n",
        "  print(\"test2\")\n",
        "  x=2+3\n",
        "  y=10\n",
        "  print(x+y)"
      ],
      "metadata": {
        "colab": {
          "base_uri": "https://localhost:8080/"
        },
        "id": "F4m4BFpeuZeY",
        "outputId": "3ec536ed-4f9c-4f42-bf05-a6e048d8747e"
      },
      "execution_count": 1,
      "outputs": [
        {
          "output_type": "stream",
          "name": "stdout",
          "text": [
            "test\n",
            "test2\n",
            "15\n"
          ]
        }
      ]
    },
    {
      "cell_type": "code",
      "source": [
        "x=\"Bata\"\n",
        "if not(len(x)%2==0 and x.startswith(\"D\")):\n",
        "  print(\"data\")"
      ],
      "metadata": {
        "colab": {
          "base_uri": "https://localhost:8080/"
        },
        "id": "Li4cC_gmuZx5",
        "outputId": "332ae628-8312-4737-e66c-3ec972fe5ff9"
      },
      "execution_count": 3,
      "outputs": [
        {
          "output_type": "stream",
          "name": "stdout",
          "text": [
            "data\n"
          ]
        }
      ]
    },
    {
      "cell_type": "code",
      "source": [
        "if 0:\n",
        "  print(\"data\")"
      ],
      "metadata": {
        "id": "ZqLfaP6YuZ1n"
      },
      "execution_count": 5,
      "outputs": []
    },
    {
      "cell_type": "code",
      "source": [
        "x=2\n",
        "if x>10:\n",
        "  print(\"data\")\n",
        "else:\n",
        "  print(\"data science\")"
      ],
      "metadata": {
        "colab": {
          "base_uri": "https://localhost:8080/"
        },
        "id": "ROHVFwX8uZ4z",
        "outputId": "7cdbf5a6-a010-4508-ce3d-4ecdc01d8bc9"
      },
      "execution_count": 6,
      "outputs": [
        {
          "output_type": "stream",
          "name": "stdout",
          "text": [
            "data science\n"
          ]
        }
      ]
    },
    {
      "cell_type": "code",
      "source": [
        "x=float(input())\n",
        "if x>=80:\n",
        "  print(\"grade 1\")\n",
        "elif x>60 and x<80:\n",
        "  print(\"grade2\")\n",
        "else:\n",
        "  print(\"fail\")"
      ],
      "metadata": {
        "colab": {
          "base_uri": "https://localhost:8080/"
        },
        "id": "YRnshmfcuZ70",
        "outputId": "8f75036c-4183-40d8-a3fa-c1e7b85e99b8"
      },
      "execution_count": 7,
      "outputs": [
        {
          "output_type": "stream",
          "name": "stdout",
          "text": [
            "30\n",
            "fail\n"
          ]
        }
      ]
    },
    {
      "cell_type": "code",
      "source": [
        "num = int(input(\"Enter a number: \"))\n",
        "if num > 0:\n",
        "    print(\"Positive\")\n",
        "elif num < 0:\n",
        "    print(\"Negative\")\n",
        "else:\n",
        "    print(\"Zero\")"
      ],
      "metadata": {
        "colab": {
          "base_uri": "https://localhost:8080/"
        },
        "id": "6doQbMthuZ-e",
        "outputId": "195eb811-30fe-4b47-d788-659bd810800e"
      },
      "execution_count": 8,
      "outputs": [
        {
          "output_type": "stream",
          "name": "stdout",
          "text": [
            "Enter a number: 34\n",
            "Positive\n"
          ]
        }
      ]
    },
    {
      "cell_type": "code",
      "source": [
        "num = int(input(\"Enter a number: \"))\n",
        "if num % 2 == 0:\n",
        "    print(\"Even number\")\n",
        "else:\n",
        "    print(\"Odd number\")"
      ],
      "metadata": {
        "colab": {
          "base_uri": "https://localhost:8080/"
        },
        "id": "zFpppjEEuaBU",
        "outputId": "cc377153-10c9-4246-eb6d-1b03c82fadc9"
      },
      "execution_count": 9,
      "outputs": [
        {
          "output_type": "stream",
          "name": "stdout",
          "text": [
            "Enter a number: 24\n",
            "Even number\n"
          ]
        }
      ]
    },
    {
      "cell_type": "code",
      "source": [
        "marks = int(input(\"Enter your marks: \"))\n",
        "if marks >= 90:\n",
        "    print(\"Grade: A\")\n",
        "elif marks >= 75:\n",
        "    print(\"Grade: B\")\n",
        "elif marks >= 50:\n",
        "    print(\"Grade: C\")\n",
        "else:\n",
        "    print(\"Grade: F\")"
      ],
      "metadata": {
        "colab": {
          "base_uri": "https://localhost:8080/"
        },
        "id": "79aAc4vAuaEb",
        "outputId": "8a424887-8d2a-4179-ad35-28b48447b03c"
      },
      "execution_count": 10,
      "outputs": [
        {
          "output_type": "stream",
          "name": "stdout",
          "text": [
            "Enter your marks: 12\n",
            "Grade: F\n"
          ]
        }
      ]
    },
    {
      "cell_type": "code",
      "source": [
        "char = input(\"Enter a single letter: \").lower()\n",
        "if char in 'aeiou':\n",
        "    print(\"Vowel\")\n",
        "else:\n",
        "    print(\"Consonant\")\n",
        ""
      ],
      "metadata": {
        "colab": {
          "base_uri": "https://localhost:8080/"
        },
        "id": "0ukPYVLEuaHQ",
        "outputId": "1b4ce153-7055-491b-b96b-eef70d6bc10e"
      },
      "execution_count": 11,
      "outputs": [
        {
          "output_type": "stream",
          "name": "stdout",
          "text": [
            "Enter a single letter: k\n",
            "Consonant\n"
          ]
        }
      ]
    },
    {
      "cell_type": "code",
      "source": [
        "username = input(\"Enter a username: \")\n",
        "if len(username) < 5:\n",
        "    print(\"Too short\")\n",
        "elif len(username) > 15:\n",
        "    print(\"Too long\")\n",
        "else:\n",
        "\n",
        "    print(\"Valid username\")"
      ],
      "metadata": {
        "colab": {
          "base_uri": "https://localhost:8080/"
        },
        "id": "PN-06IKouaKc",
        "outputId": "21f492be-6d2b-4fa3-f056-f86cd3a3a0e5"
      },
      "execution_count": 12,
      "outputs": [
        {
          "output_type": "stream",
          "name": "stdout",
          "text": [
            "Enter a username: charvika\n",
            "Valid username\n"
          ]
        }
      ]
    },
    {
      "cell_type": "code",
      "source": [
        "username = input(\"Enter a username: \")\n",
        "if len(username) < 5:\n",
        "    print(\"Too short\")\n",
        "elif len(username) > 15:\n",
        "    print(\"Too long\")\n",
        "else:\n",
        "    print(\"Valid username\")\n"
      ],
      "metadata": {
        "colab": {
          "base_uri": "https://localhost:8080/"
        },
        "id": "WYo4APakuaN2",
        "outputId": "c0bfdb76-b7f5-44f2-ce97-867addc100db"
      },
      "execution_count": 13,
      "outputs": [
        {
          "output_type": "stream",
          "name": "stdout",
          "text": [
            "Enter a username: vihaan\n",
            "Valid username\n"
          ]
        }
      ]
    },
    {
      "cell_type": "code",
      "source": [
        "\"data science\".split()"
      ],
      "metadata": {
        "colab": {
          "base_uri": "https://localhost:8080/"
        },
        "id": "2yIP5LTxuaRe",
        "outputId": "f326b792-ee75-4813-e869-1b83c799ba16"
      },
      "execution_count": 14,
      "outputs": [
        {
          "output_type": "execute_result",
          "data": {
            "text/plain": [
              "['data', 'science']"
            ]
          },
          "metadata": {},
          "execution_count": 14
        }
      ]
    },
    {
      "cell_type": "code",
      "source": [
        "\"data science\".split(\"a\")"
      ],
      "metadata": {
        "colab": {
          "base_uri": "https://localhost:8080/"
        },
        "id": "XqBKpKSVx4W9",
        "outputId": "9fcd7200-db5b-40f0-8bbe-d7ba1339be8b"
      },
      "execution_count": 15,
      "outputs": [
        {
          "output_type": "execute_result",
          "data": {
            "text/plain": [
              "['d', 't', ' science']"
            ]
          },
          "metadata": {},
          "execution_count": 15
        }
      ]
    },
    {
      "cell_type": "code",
      "source": [
        "for i  in \"data science\".split(\"a\"):\n",
        "  print(i)"
      ],
      "metadata": {
        "colab": {
          "base_uri": "https://localhost:8080/"
        },
        "id": "C46S-CLvx4aQ",
        "outputId": "f95bf037-5e5f-4d72-d08d-118e6ec8a116"
      },
      "execution_count": 16,
      "outputs": [
        {
          "output_type": "stream",
          "name": "stdout",
          "text": [
            "d\n",
            "t\n",
            " science\n"
          ]
        }
      ]
    },
    {
      "cell_type": "code",
      "source": [
        "for i in \"data756\":\n",
        "  if i.isalpha():\n",
        "    print(i,end=',')"
      ],
      "metadata": {
        "colab": {
          "base_uri": "https://localhost:8080/"
        },
        "id": "fkZSYgWQx4hK",
        "outputId": "d9a01ea3-a257-4670-b590-8f931ecb281f"
      },
      "execution_count": 17,
      "outputs": [
        {
          "output_type": "stream",
          "name": "stdout",
          "text": [
            "d,a,t,a,"
          ]
        }
      ]
    },
    {
      "cell_type": "code",
      "source": [
        "# concat string\n",
        "\"1\"+\"1\"+\"data\""
      ],
      "metadata": {
        "colab": {
          "base_uri": "https://localhost:8080/",
          "height": 35
        },
        "id": "hsJ6AteSx4lB",
        "outputId": "3ce95aa5-0193-4ea0-b0fc-51d80c420cdd"
      },
      "execution_count": 18,
      "outputs": [
        {
          "output_type": "execute_result",
          "data": {
            "text/plain": [
              "'11data'"
            ],
            "application/vnd.google.colaboratory.intrinsic+json": {
              "type": "string"
            }
          },
          "metadata": {},
          "execution_count": 18
        }
      ]
    },
    {
      "cell_type": "code",
      "source": [
        "for i in range(1,10,2):\n",
        "  print(i,end=',')"
      ],
      "metadata": {
        "colab": {
          "base_uri": "https://localhost:8080/"
        },
        "id": "UGy_0dbIx4oq",
        "outputId": "8248533b-ba21-4367-c258-01c2fd02e659"
      },
      "execution_count": 19,
      "outputs": [
        {
          "output_type": "stream",
          "name": "stdout",
          "text": [
            "1,3,5,7,9,"
          ]
        }
      ]
    },
    {
      "cell_type": "code",
      "source": [
        "for i in range(10,0,-3):\n",
        "  print(i,end=',')"
      ],
      "metadata": {
        "colab": {
          "base_uri": "https://localhost:8080/"
        },
        "id": "-e2JcKVJx4sU",
        "outputId": "987997ec-ea7d-4f50-a452-38fba39d4e8b"
      },
      "execution_count": 20,
      "outputs": [
        {
          "output_type": "stream",
          "name": "stdout",
          "text": [
            "10,7,4,1,"
          ]
        }
      ]
    },
    {
      "cell_type": "code",
      "source": [
        "\n",
        "for i in range(1,6):\n",
        "  print(\"*\"*(6-i))"
      ],
      "metadata": {
        "colab": {
          "base_uri": "https://localhost:8080/"
        },
        "id": "-ur-50Msx4v5",
        "outputId": "58a4e251-6b28-4069-fdc3-f11a3c08d66e"
      },
      "execution_count": 21,
      "outputs": [
        {
          "output_type": "stream",
          "name": "stdout",
          "text": [
            "*****\n",
            "****\n",
            "***\n",
            "**\n",
            "*\n"
          ]
        }
      ]
    },
    {
      "cell_type": "code",
      "source": [
        "for i in range(5,0,-1):\n",
        "  print(\"*\"*i)"
      ],
      "metadata": {
        "colab": {
          "base_uri": "https://localhost:8080/"
        },
        "id": "hykIUX-fymIp",
        "outputId": "74058a97-839f-4c0a-dc7a-07531b20a29c"
      },
      "execution_count": 22,
      "outputs": [
        {
          "output_type": "stream",
          "name": "stdout",
          "text": [
            "*****\n",
            "****\n",
            "***\n",
            "**\n",
            "*\n"
          ]
        }
      ]
    },
    {
      "cell_type": "code",
      "source": [
        "customer_review='''customers find the laptop's build quality good, with one\n",
        "noting its premium look a@\n",
        "@4r student use. However, the performance\n",
        " receives mixed feedback, with some finding it satisfying while others\n",
        " describe it as extremely bad. Addit@@@%2ionally, the fingerprint sensor is not available,\n",
        "and cus24\n",
        "@%tomers report poor battery performance.'''"
      ],
      "metadata": {
        "id": "WZY49MX1ymL_"
      },
      "execution_count": 23,
      "outputs": []
    },
    {
      "cell_type": "code",
      "source": [
        "customer_review"
      ],
      "metadata": {
        "colab": {
          "base_uri": "https://localhost:8080/",
          "height": 70
        },
        "id": "PY0IovMAymPK",
        "outputId": "ca16e283-c472-4f24-c373-06960ae71fca"
      },
      "execution_count": 24,
      "outputs": [
        {
          "output_type": "execute_result",
          "data": {
            "text/plain": [
              "\"customers find the laptop's build quality good, with one\\nnoting its premium look a@\\n@4r student use. However, the performance\\n receives mixed feedback, with some finding it satisfying while others\\n describe it as extremely bad. Addit@@@%2ionally, the fingerprint sensor is not available,\\nand cus24\\n@%tomers report poor battery performance.\""
            ],
            "application/vnd.google.colaboratory.intrinsic+json": {
              "type": "string"
            }
          },
          "metadata": {},
          "execution_count": 24
        }
      ]
    },
    {
      "cell_type": "code",
      "source": [
        "d={}\n",
        "for i in customer_review.split():\n",
        "  d[i]=len(i)\n",
        "print(d)"
      ],
      "metadata": {
        "colab": {
          "base_uri": "https://localhost:8080/"
        },
        "id": "QRBWq9WYymS3",
        "outputId": "e8cf0030-cb84-439b-f9e8-cbe7e190c15d"
      },
      "execution_count": 27,
      "outputs": [
        {
          "output_type": "stream",
          "name": "stdout",
          "text": [
            "{'customers': 9, 'find': 4, 'the': 3, \"laptop's\": 8, 'build': 5, 'quality': 7, 'good,': 5, 'with': 4, 'one': 3, 'noting': 6, 'its': 3, 'premium': 7, 'look': 4, 'a@': 2, '@4r': 3, 'student': 7, 'use.': 4, 'However,': 8, 'performance': 11, 'receives': 8, 'mixed': 5, 'feedback,': 9, 'some': 4, 'finding': 7, 'it': 2, 'satisfying': 10, 'while': 5, 'others': 6, 'describe': 8, 'as': 2, 'extremely': 9, 'bad.': 4, 'Addit@@@%2ionally,': 18, 'fingerprint': 11, 'sensor': 6, 'is': 2, 'not': 3, 'available,': 10, 'and': 3, 'cus24': 5, '@%tomers': 8, 'report': 6, 'poor': 4, 'battery': 7, 'performance.': 12}\n"
          ]
        }
      ]
    },
    {
      "cell_type": "code",
      "source": [
        "customer_review\n",
        "counter=0\n",
        "for i in customer_review:\n",
        "  if i not in \"aeiouAEIOU\" and i.isalpha():\n",
        "    counter=counter+1\n",
        "print(counter)"
      ],
      "metadata": {
        "colab": {
          "base_uri": "https://localhost:8080/"
        },
        "id": "ZmzhkGvtzHsU",
        "outputId": "9940c28c-ab1b-401c-b281-891fc5f2a119"
      },
      "execution_count": 28,
      "outputs": [
        {
          "output_type": "stream",
          "name": "stdout",
          "text": [
            "167\n"
          ]
        }
      ]
    },
    {
      "cell_type": "code",
      "source": [
        "x=\"data\"\n",
        "\n",
        "for i in range(1,len(x)+1):\n",
        "  print(x[0:i])"
      ],
      "metadata": {
        "colab": {
          "base_uri": "https://localhost:8080/"
        },
        "id": "KO3s9ZnrzHvh",
        "outputId": "aa7accb9-1589-4918-fcb2-f9f25169aa60"
      },
      "execution_count": 29,
      "outputs": [
        {
          "output_type": "stream",
          "name": "stdout",
          "text": [
            "d\n",
            "da\n",
            "dat\n",
            "data\n"
          ]
        }
      ]
    },
    {
      "cell_type": "code",
      "source": [
        "for i in range(0,10,2):\n",
        "  for j in range(0,10,3):\n",
        "    print(i,j,end=' - ')"
      ],
      "metadata": {
        "colab": {
          "base_uri": "https://localhost:8080/"
        },
        "id": "XwqpGfkezHzA",
        "outputId": "4c341782-8620-4099-b60c-7b16771ca18b"
      },
      "execution_count": 30,
      "outputs": [
        {
          "output_type": "stream",
          "name": "stdout",
          "text": [
            "0 0 - 0 3 - 0 6 - 0 9 - 2 0 - 2 3 - 2 6 - 2 9 - 4 0 - 4 3 - 4 6 - 4 9 - 6 0 - 6 3 - 6 6 - 6 9 - 8 0 - 8 3 - 8 6 - 8 9 - "
          ]
        }
      ]
    },
    {
      "cell_type": "code",
      "source": [
        "for i in range(1, 6):\n",
        "    print('*' * i)\n",
        "for k in range(4,0,-1):\n",
        "    print('*'*(k))"
      ],
      "metadata": {
        "colab": {
          "base_uri": "https://localhost:8080/"
        },
        "id": "4LN699FrzH1b",
        "outputId": "16b5893f-c7dc-4088-844f-b16b21f18782"
      },
      "execution_count": 35,
      "outputs": [
        {
          "output_type": "stream",
          "name": "stdout",
          "text": [
            "*\n",
            "**\n",
            "***\n",
            "****\n",
            "*****\n",
            "****\n",
            "***\n",
            "**\n",
            "*\n"
          ]
        }
      ]
    }
  ]
}